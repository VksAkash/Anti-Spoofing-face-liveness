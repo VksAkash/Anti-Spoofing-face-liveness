{
  "cells": [
    {
      "cell_type": "markdown",
      "metadata": {
        "id": "YECJxTJ_tdKF"
      },
      "source": [
        "<h1>Getting datasets from google drive to workspace </h1>"
      ]
    },
    {
      "cell_type": "markdown",
      "metadata": {
        "id": "mQQIDY9hyYw4"
      },
      "source": [
        "<h1>Data Preprocessing </h1>"
      ]
    },
    {
      "cell_type": "markdown",
      "metadata": {
        "id": "5oqhXZHQPSbP"
      },
      "source": [
        "<h2> Four Steps </h2>\n",
        "<h3>Step 1: Create new directory structure for the datasets</h3>\n",
        "<h3>Step 2: Copying images into new directory structure </h3>\n",
        "<h3>Step 3: Dataset Exploration </h3>\n",
        "<h4> Step 4: Dataset Visualization </h3>"
      ]
    },
    {
      "cell_type": "markdown",
      "metadata": {
        "id": "foWfyfr0QUe5"
      },
      "source": [
        "<h3>Step 1 </h1>"
      ]
    },
    {
      "cell_type": "markdown",
      "metadata": {
        "id": "TPcP-u2aL8J2"
      },
      "source": [
        "<h2>Original VS New Directory Structure</h2>"
      ]
    },
    {
      "cell_type": "code",
      "execution_count": 43,
      "metadata": {
        "id": "h3aGKlCDt9B2"
      },
      "outputs": [],
      "source": [
        "dataset_dir = 'C:\\\\Users\\\\Akash\\\\Desktop\\\\Opencv\\\\Anti Spoofing\\\\final_antispoofing'\n",
        "train_dataset_dir = 'C:\\\\Users\\\\Akash\\\\Desktop\\\\Opencv\\\\Anti Spoofing\\\\final_antispoofing\\\\test'\n",
        "test_dataset_dir = 'C:\\\\Users\\\\Akash\\\\Desktop\\\\Opencv\\\\Anti Spoofing\\\\final_antispoofing\\\\test'"
      ]
    },
    {
      "cell_type": "code",
      "execution_count": 44,
      "metadata": {
        "id": "ff6IbBSet9F0"
      },
      "outputs": [
        {
          "ename": "FileExistsError",
          "evalue": "[WinError 183] Cannot create a file when that file already exists: 'C:\\\\Users\\\\Akash\\\\Desktop\\\\Opencv\\\\antispoofing_dataset'",
          "output_type": "error",
          "traceback": [
            "\u001b[1;31m---------------------------------------------------------------------------\u001b[0m",
            "\u001b[1;31mFileExistsError\u001b[0m                           Traceback (most recent call last)",
            "Cell \u001b[1;32mIn[44], line 2\u001b[0m\n\u001b[0;32m      1\u001b[0m \u001b[39mimport\u001b[39;00m \u001b[39mos\u001b[39;00m\n\u001b[1;32m----> 2\u001b[0m os\u001b[39m.\u001b[39;49mmkdir(\u001b[39m'\u001b[39;49m\u001b[39mC:\u001b[39;49m\u001b[39m\\\\\u001b[39;49;00m\u001b[39mUsers\u001b[39;49m\u001b[39m\\\\\u001b[39;49;00m\u001b[39mAkash\u001b[39;49m\u001b[39m\\\\\u001b[39;49;00m\u001b[39mDesktop\u001b[39;49m\u001b[39m\\\\\u001b[39;49;00m\u001b[39mOpencv\u001b[39;49m\u001b[39m\\\\\u001b[39;49;00m\u001b[39mantispoofing_dataset\u001b[39;49m\u001b[39m'\u001b[39;49m)\n\u001b[0;32m      3\u001b[0m os\u001b[39m.\u001b[39mmkdir(\u001b[39m'\u001b[39m\u001b[39mC:\u001b[39m\u001b[39m\\\\\u001b[39;00m\u001b[39mUsers\u001b[39m\u001b[39m\\\\\u001b[39;00m\u001b[39mAkash\u001b[39m\u001b[39m\\\\\u001b[39;00m\u001b[39mDesktop\u001b[39m\u001b[39m\\\\\u001b[39;00m\u001b[39mOpencv\u001b[39m\u001b[39m\\\\\u001b[39;00m\u001b[39mantispoofing_dataset\u001b[39m\u001b[39m\\\\\u001b[39;00m\u001b[39mtrain\u001b[39m\u001b[39m'\u001b[39m)\n\u001b[0;32m      4\u001b[0m os\u001b[39m.\u001b[39mmkdir(\u001b[39m'\u001b[39m\u001b[39mC:\u001b[39m\u001b[39m\\\\\u001b[39;00m\u001b[39mUsers\u001b[39m\u001b[39m\\\\\u001b[39;00m\u001b[39mAkash\u001b[39m\u001b[39m\\\\\u001b[39;00m\u001b[39mDesktop\u001b[39m\u001b[39m\\\\\u001b[39;00m\u001b[39mOpencv\u001b[39m\u001b[39m\\\\\u001b[39;00m\u001b[39mantispoofing_dataset\u001b[39m\u001b[39m\\\\\u001b[39;00m\u001b[39mtest\u001b[39m\u001b[39m'\u001b[39m)\n",
            "\u001b[1;31mFileExistsError\u001b[0m: [WinError 183] Cannot create a file when that file already exists: 'C:\\\\Users\\\\Akash\\\\Desktop\\\\Opencv\\\\antispoofing_dataset'"
          ]
        }
      ],
      "source": [
        "import os\n",
        "os.mkdir('C:\\\\Users\\\\Akash\\\\Desktop\\\\Opencv\\\\antispoofing_dataset')\n",
        "os.mkdir('C:\\\\Users\\\\Akash\\\\Desktop\\\\Opencv\\\\antispoofing_dataset\\\\train')\n",
        "os.mkdir('C:\\\\Users\\\\Akash\\\\Desktop\\\\Opencv\\\\antispoofing_dataset\\\\test')\n",
        "os.mkdir('C:\\\\Users\\\\Akash\\\\Desktop\\\\Opencv\\\\antispoofing_dataset\\\\train\\\\real')\n",
        "os.mkdir('C:\\\\Users\\\\Akash\\\\Desktop\\\\Opencv\\\\antispoofing_dataset\\\\train\\\\spoof')\n",
        "os.mkdir('C:\\\\Users\\\\Akash\\\\Desktop\\\\Opencv\\\\antispoofing_dataset\\\\test\\\\real')\n",
        "os.mkdir('C:\\\\Users\\\\Akash\\\\Desktop\\\\Opencv\\\\antispoofing_dataset\\\\test\\\\spoof')"
      ]
    },
    {
      "cell_type": "code",
      "execution_count": 46,
      "metadata": {
        "id": "I9VbHJtJt9JD"
      },
      "outputs": [],
      "source": [
        "train_dir='C:\\\\Users\\\\Akash\\\\Desktop\\\\Opencv\\\\antispoofing_dataset\\\\train'\n",
        "test_dir = 'C:\\\\Users\\\\Akash\\\\Desktop\\\\Opencv\\\\antispoofing_dataset\\\\test'"
      ]
    },
    {
      "cell_type": "markdown",
      "metadata": {
        "id": "zLwHeE0lQaSs"
      },
      "source": [
        "<h3>Step 2 </h3>"
      ]
    },
    {
      "cell_type": "code",
      "execution_count": 45,
      "metadata": {
        "id": "0N-mM9VAt9MI"
      },
      "outputs": [],
      "source": [
        "import shutil\n",
        "import numpy as np\n",
        "import matplotlib.pyplot as plt\n",
        "import cv2"
      ]
    },
    {
      "cell_type": "code",
      "execution_count": 47,
      "metadata": {
        "id": "YUS8E-B1t9SC"
      },
      "outputs": [],
      "source": [
        "def train_test_splits(data_directory):\n",
        "  for split_type in os.listdir(data_directory):\n",
        "    path_to_split_type = os.path.join(data_directory,split_type)\n",
        "    for category in os.listdir(path_to_split_type):\n",
        "      path_to_category = os.path.join(path_to_split_type,category)\n",
        "      for subject in os.listdir(path_to_category):\n",
        "        path_to_subject = os.path.join(path_to_category,subject)\n",
        "        for img in os.listdir(path_to_subject):\n",
        "          if split_type == 'train':\n",
        "            shutil.copy(os.path.join(path_to_subject,img),os.path.join(train_dir,category,img))\n",
        "          else:\n",
        "            shutil.copy(os.path.join(path_to_subject,img),os.path.join(test_dir,category,img))"
      ]
    },
    {
      "cell_type": "code",
      "execution_count": 48,
      "metadata": {
        "id": "1A_oaHZ8RPad"
      },
      "outputs": [],
      "source": [
        "train_test_splits(data_directory=dataset_dir)"
      ]
    },
    {
      "cell_type": "markdown",
      "metadata": {
        "id": "YYdRvC2TseHP"
      },
      "source": [
        "<h3>Step 3 </h3>"
      ]
    },
    {
      "cell_type": "markdown",
      "metadata": {
        "id": "vN0huLeTu6d6"
      },
      "source": [
        "<h3>Dataset Exploration </h3>"
      ]
    },
    {
      "cell_type": "code",
      "execution_count": 49,
      "metadata": {
        "id": "twfG1ZLcvMyx"
      },
      "outputs": [],
      "source": [
        "categories = ['real','spoof']"
      ]
    },
    {
      "cell_type": "code",
      "execution_count": 50,
      "metadata": {
        "colab": {
          "base_uri": "https://localhost:8080/"
        },
        "id": "9pt6Ru8sQec0",
        "outputId": "93f4650f-6b60-48de-db03-ded96e070387"
      },
      "outputs": [
        {
          "name": "stdout",
          "output_type": "stream",
          "text": [
            "---------------------Exploring Training Datasets--------------------\n",
            "There are 2102 images in real directory\n",
            "There are 2118 images in spoof directory\n",
            "There are 4220 total images in training directory\n",
            "-----------------------Exploring Testing Datasets-------------------------\n",
            "There are 477 images in real directory\n",
            "There are 474 images in spoof directory\n",
            "There are 951 total images in testing directory\n"
          ]
        }
      ],
      "source": [
        "print(\"---------------------Exploring Training Datasets--------------------\")\n",
        "for category in categories:\n",
        "  path = os.path.join(train_dir,category)\n",
        "  if category == 'real':\n",
        "    r1 = len(os.listdir(path))\n",
        "  else:\n",
        "    s1 = len(os.listdir(path))\n",
        "  print(\"There are {} images in {} directory\".format(len(os.listdir(path)),category))\n",
        "print(\"There are {} total images in training directory\".format(r1+s1))\n",
        "\n",
        "print(\"-----------------------Exploring Testing Datasets-------------------------\")\n",
        "for category in categories:\n",
        "  path = os.path.join(test_dir,category)\n",
        "  if category == 'real':\n",
        "    r2 = len(os.listdir(path))\n",
        "  else:\n",
        "    s2 = len(os.listdir(path))\n",
        "  print(\"There are {} images in {} directory\".format(len(os.listdir(path)),category))\n",
        "print(\"There are {} total images in testing directory\".format(r2+s2))"
      ]
    },
    {
      "cell_type": "markdown",
      "metadata": {
        "id": "WI8ZrFnu6vKx"
      },
      "source": [
        "<h3>Step 4 : Dataset Visualization </h3>"
      ]
    },
    {
      "cell_type": "code",
      "execution_count": 51,
      "metadata": {
        "id": "BMOUqhCLQefr"
      },
      "outputs": [],
      "source": [
        "def get_images(data_dir,number_of_samples):\n",
        "  image_path = []\n",
        "  for category in categories:\n",
        "    path = os.path.join(data_dir,category)\n",
        "    i = 1\n",
        "    for img in os.listdir(path):\n",
        "      if i > number_of_samples:\n",
        "        break\n",
        "      else:\n",
        "        image_path.append(os.path.join(path,img))\n",
        "        i += 1\n",
        "  return image_path"
      ]
    },
    {
      "cell_type": "code",
      "execution_count": 84,
      "metadata": {
        "id": "Au886nsW65Sh"
      },
      "outputs": [],
      "source": [
        "def visualize_dataset(image_path,rows,cols):\n",
        "  fig = plt.figure(figsize=(20,20))\n",
        "  for i in range(1,rows * cols + 1):\n",
        "    fig.add_subplot(rows,cols,i)\n",
        "    img_array = cv2.imread(image_path[i-1])\n",
        "    fig.subplots_adjust(hspace=1)\n",
        "    plt.imshow(cv2.cvtColor(img_array,cv2.COLOR_BGR2RGB))\n",
        "    plt.xlabel(image_path[i-1].split('/')[-2])\n",
        "  plt.show()\n"
      ]
    },
    {
      "cell_type": "code",
      "execution_count": 85,
      "metadata": {
        "colab": {
          "base_uri": "https://localhost:8080/"
        },
        "id": "PzprAzoBQeiS",
        "outputId": "6a047d05-47ee-4096-b128-17483648eb0e"
      },
      "outputs": [
        {
          "name": "stdout",
          "output_type": "stream",
          "text": [
            "['C:\\\\Users\\\\Akash\\\\Desktop\\\\Opencv\\\\antispoofing_dataset\\\\train\\\\real\\\\20201110_113249.jpg', 'C:\\\\Users\\\\Akash\\\\Desktop\\\\Opencv\\\\antispoofing_dataset\\\\train\\\\real\\\\20201110_113251.jpg', 'C:\\\\Users\\\\Akash\\\\Desktop\\\\Opencv\\\\antispoofing_dataset\\\\train\\\\real\\\\20201110_113253.jpg', 'C:\\\\Users\\\\Akash\\\\Desktop\\\\Opencv\\\\antispoofing_dataset\\\\train\\\\real\\\\20201110_113254.jpg', 'C:\\\\Users\\\\Akash\\\\Desktop\\\\Opencv\\\\antispoofing_dataset\\\\train\\\\real\\\\20201110_113259hr_flip.jpg', 'C:\\\\Users\\\\Akash\\\\Desktop\\\\Opencv\\\\antispoofing_dataset\\\\train\\\\real\\\\20201110_113317hr_flip.jpg', 'C:\\\\Users\\\\Akash\\\\Desktop\\\\Opencv\\\\antispoofing_dataset\\\\train\\\\real\\\\20201110_113324hr_flip.jpg', 'C:\\\\Users\\\\Akash\\\\Desktop\\\\Opencv\\\\antispoofing_dataset\\\\train\\\\real\\\\20201110_113327hr_flip.jpg', 'C:\\\\Users\\\\Akash\\\\Desktop\\\\Opencv\\\\antispoofing_dataset\\\\train\\\\real\\\\20201110_113330hr_flip.jpg', 'C:\\\\Users\\\\Akash\\\\Desktop\\\\Opencv\\\\antispoofing_dataset\\\\train\\\\real\\\\20201110_113334.jpg', 'C:\\\\Users\\\\Akash\\\\Desktop\\\\Opencv\\\\antispoofing_dataset\\\\train\\\\real\\\\20201110_113337.jpg', 'C:\\\\Users\\\\Akash\\\\Desktop\\\\Opencv\\\\antispoofing_dataset\\\\train\\\\real\\\\20201110_113350.jpg', 'C:\\\\Users\\\\Akash\\\\Desktop\\\\Opencv\\\\antispoofing_dataset\\\\train\\\\real\\\\20201110_113353.jpg', 'C:\\\\Users\\\\Akash\\\\Desktop\\\\Opencv\\\\antispoofing_dataset\\\\train\\\\real\\\\20201110_113404.jpg', 'C:\\\\Users\\\\Akash\\\\Desktop\\\\Opencv\\\\antispoofing_dataset\\\\train\\\\real\\\\20201110_113404hr_flip.jpg', 'C:\\\\Users\\\\Akash\\\\Desktop\\\\Opencv\\\\antispoofing_dataset\\\\train\\\\real\\\\20201110_113407hr_flip.jpg', 'C:\\\\Users\\\\Akash\\\\Desktop\\\\Opencv\\\\antispoofing_dataset\\\\train\\\\real\\\\20201110_113411hr_flip.jpg', 'C:\\\\Users\\\\Akash\\\\Desktop\\\\Opencv\\\\antispoofing_dataset\\\\train\\\\real\\\\20201110_113459hr_flip.jpg', 'C:\\\\Users\\\\Akash\\\\Desktop\\\\Opencv\\\\antispoofing_dataset\\\\train\\\\real\\\\20201110_113502hr_flip.jpg', 'C:\\\\Users\\\\Akash\\\\Desktop\\\\Opencv\\\\antispoofing_dataset\\\\train\\\\real\\\\20201110_113505.jpg', 'C:\\\\Users\\\\Akash\\\\Desktop\\\\Opencv\\\\antispoofing_dataset\\\\train\\\\real\\\\20201110_113505hr_flip.jpg', 'C:\\\\Users\\\\Akash\\\\Desktop\\\\Opencv\\\\antispoofing_dataset\\\\train\\\\real\\\\20201110_113507.jpg', 'C:\\\\Users\\\\Akash\\\\Desktop\\\\Opencv\\\\antispoofing_dataset\\\\train\\\\real\\\\20201110_113507hr_flip.jpg', 'C:\\\\Users\\\\Akash\\\\Desktop\\\\Opencv\\\\antispoofing_dataset\\\\train\\\\real\\\\20201110_113509hr_flip.jpg', 'C:\\\\Users\\\\Akash\\\\Desktop\\\\Opencv\\\\antispoofing_dataset\\\\train\\\\real\\\\20201110_113512.jpg', 'C:\\\\Users\\\\Akash\\\\Desktop\\\\Opencv\\\\antispoofing_dataset\\\\train\\\\spoof\\\\abhi10.jpg', 'C:\\\\Users\\\\Akash\\\\Desktop\\\\Opencv\\\\antispoofing_dataset\\\\train\\\\spoof\\\\abhi100.jpg', 'C:\\\\Users\\\\Akash\\\\Desktop\\\\Opencv\\\\antispoofing_dataset\\\\train\\\\spoof\\\\abhi104.jpg', 'C:\\\\Users\\\\Akash\\\\Desktop\\\\Opencv\\\\antispoofing_dataset\\\\train\\\\spoof\\\\abhi105.jpg', 'C:\\\\Users\\\\Akash\\\\Desktop\\\\Opencv\\\\antispoofing_dataset\\\\train\\\\spoof\\\\abhi108.jpg', 'C:\\\\Users\\\\Akash\\\\Desktop\\\\Opencv\\\\antispoofing_dataset\\\\train\\\\spoof\\\\abhi109.jpg', 'C:\\\\Users\\\\Akash\\\\Desktop\\\\Opencv\\\\antispoofing_dataset\\\\train\\\\spoof\\\\abhi11.jpg', 'C:\\\\Users\\\\Akash\\\\Desktop\\\\Opencv\\\\antispoofing_dataset\\\\train\\\\spoof\\\\abhi111.jpg', 'C:\\\\Users\\\\Akash\\\\Desktop\\\\Opencv\\\\antispoofing_dataset\\\\train\\\\spoof\\\\abhi112.jpg', 'C:\\\\Users\\\\Akash\\\\Desktop\\\\Opencv\\\\antispoofing_dataset\\\\train\\\\spoof\\\\abhi113.jpg', 'C:\\\\Users\\\\Akash\\\\Desktop\\\\Opencv\\\\antispoofing_dataset\\\\train\\\\spoof\\\\abhi119.jpg', 'C:\\\\Users\\\\Akash\\\\Desktop\\\\Opencv\\\\antispoofing_dataset\\\\train\\\\spoof\\\\abhi12.jpg', 'C:\\\\Users\\\\Akash\\\\Desktop\\\\Opencv\\\\antispoofing_dataset\\\\train\\\\spoof\\\\abhi120.jpg', 'C:\\\\Users\\\\Akash\\\\Desktop\\\\Opencv\\\\antispoofing_dataset\\\\train\\\\spoof\\\\abhi121.jpg', 'C:\\\\Users\\\\Akash\\\\Desktop\\\\Opencv\\\\antispoofing_dataset\\\\train\\\\spoof\\\\abhi125.jpg', 'C:\\\\Users\\\\Akash\\\\Desktop\\\\Opencv\\\\antispoofing_dataset\\\\train\\\\spoof\\\\abhi126.jpg', 'C:\\\\Users\\\\Akash\\\\Desktop\\\\Opencv\\\\antispoofing_dataset\\\\train\\\\spoof\\\\abhi127.jpg', 'C:\\\\Users\\\\Akash\\\\Desktop\\\\Opencv\\\\antispoofing_dataset\\\\train\\\\spoof\\\\abhi129.jpg', 'C:\\\\Users\\\\Akash\\\\Desktop\\\\Opencv\\\\antispoofing_dataset\\\\train\\\\spoof\\\\abhi13.jpg', 'C:\\\\Users\\\\Akash\\\\Desktop\\\\Opencv\\\\antispoofing_dataset\\\\train\\\\spoof\\\\abhi130.jpg', 'C:\\\\Users\\\\Akash\\\\Desktop\\\\Opencv\\\\antispoofing_dataset\\\\train\\\\spoof\\\\abhi132.jpg', 'C:\\\\Users\\\\Akash\\\\Desktop\\\\Opencv\\\\antispoofing_dataset\\\\train\\\\spoof\\\\abhi133.jpg', 'C:\\\\Users\\\\Akash\\\\Desktop\\\\Opencv\\\\antispoofing_dataset\\\\train\\\\spoof\\\\abhi134.jpg', 'C:\\\\Users\\\\Akash\\\\Desktop\\\\Opencv\\\\antispoofing_dataset\\\\train\\\\spoof\\\\abhi135.jpg', 'C:\\\\Users\\\\Akash\\\\Desktop\\\\Opencv\\\\antispoofing_dataset\\\\train\\\\spoof\\\\abhi136.jpg']\n",
            "50\n"
          ]
        }
      ],
      "source": [
        "training_image_path = get_images(data_dir= train_dir,number_of_samples=25)\n",
        "print(training_image_path)\n",
        "print(len(training_image_path))"
      ]
    },
    {
      "cell_type": "markdown",
      "metadata": {
        "id": "1CymMfyW7BKp"
      },
      "source": [
        "<h3>Training Dataset Visualization</h3>"
      ]
    },
    {
      "cell_type": "code",
      "execution_count": 86,
      "metadata": {
        "colab": {
          "base_uri": "https://localhost:8080/",
          "height": 705
        },
        "id": "5ayBpvThQelG",
        "outputId": "0aaa4248-bd6c-4841-a385-040ff46876d0"
      },
      "outputs": [
        {
          "ename": "IndexError",
          "evalue": "list index out of range",
          "output_type": "error",
          "traceback": [
            "\u001b[1;31m---------------------------------------------------------------------------\u001b[0m",
            "\u001b[1;31mIndexError\u001b[0m                                Traceback (most recent call last)",
            "Cell \u001b[1;32mIn[86], line 1\u001b[0m\n\u001b[1;32m----> 1\u001b[0m visualize_dataset(image_path\u001b[39m=\u001b[39;49mtraining_image_path,rows\u001b[39m=\u001b[39;49m\u001b[39m5\u001b[39;49m,cols\u001b[39m=\u001b[39;49m\u001b[39m10\u001b[39;49m)\n",
            "Cell \u001b[1;32mIn[84], line 8\u001b[0m, in \u001b[0;36mvisualize_dataset\u001b[1;34m(image_path, rows, cols)\u001b[0m\n\u001b[0;32m      6\u001b[0m   fig\u001b[39m.\u001b[39msubplots_adjust(hspace\u001b[39m=\u001b[39m\u001b[39m1\u001b[39m)\n\u001b[0;32m      7\u001b[0m   plt\u001b[39m.\u001b[39mimshow(cv2\u001b[39m.\u001b[39mcvtColor(img_array,cv2\u001b[39m.\u001b[39mCOLOR_BGR2RGB))\n\u001b[1;32m----> 8\u001b[0m   plt\u001b[39m.\u001b[39mxlabel(image_path[i\u001b[39m-\u001b[39;49m\u001b[39m1\u001b[39;49m]\u001b[39m.\u001b[39;49msplit(\u001b[39m'\u001b[39;49m\u001b[39m/\u001b[39;49m\u001b[39m'\u001b[39;49m)[\u001b[39m-\u001b[39;49m\u001b[39m2\u001b[39;49m])\n\u001b[0;32m      9\u001b[0m plt\u001b[39m.\u001b[39mshow()\n",
            "\u001b[1;31mIndexError\u001b[0m: list index out of range"
          ]
        },
        {
          "data": {
            "image/png": "[encoded data removed]",
            "text/plain": [
              "<Figure size 2000x2000 with 1 Axes>"
            ]
          },
          "metadata": {},
          "output_type": "display_data"
        }
      ],
      "source": [
        "visualize_dataset(image_path=training_image_path,rows=5,cols=10)"
      ]
    },
    {
      "cell_type": "markdown",
      "metadata": {
        "id": "j7LcIcjR7Mbi"
      },
      "source": [
        "Testing Dataset Visualization"
      ]
    },
    {
      "cell_type": "code",
      "execution_count": 61,
      "metadata": {
        "colab": {
          "base_uri": "https://localhost:8080/"
        },
        "id": "WfaVZVcUQeng",
        "outputId": "29cfa12a-bd9a-49ac-8497-9a7a9bd1fb11"
      },
      "outputs": [
        {
          "name": "stdout",
          "output_type": "stream",
          "text": [
            "['C:\\\\Users\\\\Akash\\\\Desktop\\\\Opencv\\\\antispoofing_dataset\\\\test\\\\real\\\\20201110_113245.jpg', 'C:\\\\Users\\\\Akash\\\\Desktop\\\\Opencv\\\\antispoofing_dataset\\\\test\\\\real\\\\20201110_113259.jpg', 'C:\\\\Users\\\\Akash\\\\Desktop\\\\Opencv\\\\antispoofing_dataset\\\\test\\\\real\\\\20201110_113320hr_flip.jpg', 'C:\\\\Users\\\\Akash\\\\Desktop\\\\Opencv\\\\antispoofing_dataset\\\\test\\\\real\\\\20201110_113342.jpg', 'C:\\\\Users\\\\Akash\\\\Desktop\\\\Opencv\\\\antispoofing_dataset\\\\test\\\\real\\\\20201110_113455hr_flip.jpg', 'C:\\\\Users\\\\Akash\\\\Desktop\\\\Opencv\\\\antispoofing_dataset\\\\test\\\\real\\\\20201110_113509.jpg', 'C:\\\\Users\\\\Akash\\\\Desktop\\\\Opencv\\\\antispoofing_dataset\\\\test\\\\real\\\\20201110_113513hr_flip.jpg', 'C:\\\\Users\\\\Akash\\\\Desktop\\\\Opencv\\\\antispoofing_dataset\\\\test\\\\real\\\\20201110_113518.jpg', 'C:\\\\Users\\\\Akash\\\\Desktop\\\\Opencv\\\\antispoofing_dataset\\\\test\\\\real\\\\20201110_113524.jpg', 'C:\\\\Users\\\\Akash\\\\Desktop\\\\Opencv\\\\antispoofing_dataset\\\\test\\\\real\\\\20201110_113526hr_flip.jpg', 'C:\\\\Users\\\\Akash\\\\Desktop\\\\Opencv\\\\antispoofing_dataset\\\\test\\\\real\\\\20201110_113533hr_flip.jpg', 'C:\\\\Users\\\\Akash\\\\Desktop\\\\Opencv\\\\antispoofing_dataset\\\\test\\\\real\\\\20201110_113540.jpg', 'C:\\\\Users\\\\Akash\\\\Desktop\\\\Opencv\\\\antispoofing_dataset\\\\test\\\\real\\\\20201110_144657.jpg', 'C:\\\\Users\\\\Akash\\\\Desktop\\\\Opencv\\\\antispoofing_dataset\\\\test\\\\real\\\\20201110_144700.jpg', 'C:\\\\Users\\\\Akash\\\\Desktop\\\\Opencv\\\\antispoofing_dataset\\\\test\\\\real\\\\20201110_144704.jpg', 'C:\\\\Users\\\\Akash\\\\Desktop\\\\Opencv\\\\antispoofing_dataset\\\\test\\\\real\\\\20201110_144725(0)hr_flip.jpg', 'C:\\\\Users\\\\Akash\\\\Desktop\\\\Opencv\\\\antispoofing_dataset\\\\test\\\\real\\\\20201110_144728hr_flip.jpg', 'C:\\\\Users\\\\Akash\\\\Desktop\\\\Opencv\\\\antispoofing_dataset\\\\test\\\\real\\\\20201110_144910.jpg', 'C:\\\\Users\\\\Akash\\\\Desktop\\\\Opencv\\\\antispoofing_dataset\\\\test\\\\real\\\\20201110_144917.jpg', 'C:\\\\Users\\\\Akash\\\\Desktop\\\\Opencv\\\\antispoofing_dataset\\\\test\\\\real\\\\20201110_144927.jpg', 'C:\\\\Users\\\\Akash\\\\Desktop\\\\Opencv\\\\antispoofing_dataset\\\\test\\\\real\\\\20201110_144931.jpg', 'C:\\\\Users\\\\Akash\\\\Desktop\\\\Opencv\\\\antispoofing_dataset\\\\test\\\\real\\\\20201110_145024.jpg', 'C:\\\\Users\\\\Akash\\\\Desktop\\\\Opencv\\\\antispoofing_dataset\\\\test\\\\real\\\\cxvffhgduyguj16.jpg', 'C:\\\\Users\\\\Akash\\\\Desktop\\\\Opencv\\\\antispoofing_dataset\\\\test\\\\real\\\\cxvffhgduyguj22.jpg', 'C:\\\\Users\\\\Akash\\\\Desktop\\\\Opencv\\\\antispoofing_dataset\\\\test\\\\real\\\\cxvffhgduyguj24.jpg', 'C:\\\\Users\\\\Akash\\\\Desktop\\\\Opencv\\\\antispoofing_dataset\\\\test\\\\spoof\\\\abhi110.jpg', 'C:\\\\Users\\\\Akash\\\\Desktop\\\\Opencv\\\\antispoofing_dataset\\\\test\\\\spoof\\\\abhi118.jpg', 'C:\\\\Users\\\\Akash\\\\Desktop\\\\Opencv\\\\antispoofing_dataset\\\\test\\\\spoof\\\\abhi124.jpg', 'C:\\\\Users\\\\Akash\\\\Desktop\\\\Opencv\\\\antispoofing_dataset\\\\test\\\\spoof\\\\abhi128.jpg', 'C:\\\\Users\\\\Akash\\\\Desktop\\\\Opencv\\\\antispoofing_dataset\\\\test\\\\spoof\\\\abhi131.jpg', 'C:\\\\Users\\\\Akash\\\\Desktop\\\\Opencv\\\\antispoofing_dataset\\\\test\\\\spoof\\\\abhi137.jpg', 'C:\\\\Users\\\\Akash\\\\Desktop\\\\Opencv\\\\antispoofing_dataset\\\\test\\\\spoof\\\\abhi144.jpg', 'C:\\\\Users\\\\Akash\\\\Desktop\\\\Opencv\\\\antispoofing_dataset\\\\test\\\\spoof\\\\abhi17.jpg', 'C:\\\\Users\\\\Akash\\\\Desktop\\\\Opencv\\\\antispoofing_dataset\\\\test\\\\spoof\\\\abhi174.jpg', 'C:\\\\Users\\\\Akash\\\\Desktop\\\\Opencv\\\\antispoofing_dataset\\\\test\\\\spoof\\\\abhi178.jpg', 'C:\\\\Users\\\\Akash\\\\Desktop\\\\Opencv\\\\antispoofing_dataset\\\\test\\\\spoof\\\\abhi184.jpg', 'C:\\\\Users\\\\Akash\\\\Desktop\\\\Opencv\\\\antispoofing_dataset\\\\test\\\\spoof\\\\abhi188.jpg', 'C:\\\\Users\\\\Akash\\\\Desktop\\\\Opencv\\\\antispoofing_dataset\\\\test\\\\spoof\\\\abhi194.jpg', 'C:\\\\Users\\\\Akash\\\\Desktop\\\\Opencv\\\\antispoofing_dataset\\\\test\\\\spoof\\\\abhi200.jpg', 'C:\\\\Users\\\\Akash\\\\Desktop\\\\Opencv\\\\antispoofing_dataset\\\\test\\\\spoof\\\\abhi211.jpg', 'C:\\\\Users\\\\Akash\\\\Desktop\\\\Opencv\\\\antispoofing_dataset\\\\test\\\\spoof\\\\abhi216.jpg', 'C:\\\\Users\\\\Akash\\\\Desktop\\\\Opencv\\\\antispoofing_dataset\\\\test\\\\spoof\\\\abhi22.jpg', 'C:\\\\Users\\\\Akash\\\\Desktop\\\\Opencv\\\\antispoofing_dataset\\\\test\\\\spoof\\\\abhi223.jpg', 'C:\\\\Users\\\\Akash\\\\Desktop\\\\Opencv\\\\antispoofing_dataset\\\\test\\\\spoof\\\\abhi228.jpg', 'C:\\\\Users\\\\Akash\\\\Desktop\\\\Opencv\\\\antispoofing_dataset\\\\test\\\\spoof\\\\abhi233.jpg', 'C:\\\\Users\\\\Akash\\\\Desktop\\\\Opencv\\\\antispoofing_dataset\\\\test\\\\spoof\\\\abhi238.jpg', 'C:\\\\Users\\\\Akash\\\\Desktop\\\\Opencv\\\\antispoofing_dataset\\\\test\\\\spoof\\\\abhi248.jpg', 'C:\\\\Users\\\\Akash\\\\Desktop\\\\Opencv\\\\antispoofing_dataset\\\\test\\\\spoof\\\\abhi28.jpg', 'C:\\\\Users\\\\Akash\\\\Desktop\\\\Opencv\\\\antispoofing_dataset\\\\test\\\\spoof\\\\abhi308.jpg', 'C:\\\\Users\\\\Akash\\\\Desktop\\\\Opencv\\\\antispoofing_dataset\\\\test\\\\spoof\\\\abhi312.jpg']\n",
            "50\n"
          ]
        }
      ],
      "source": [
        "testing_image_path = get_images(data_dir= test_dir,number_of_samples=25)\n",
        "print(testing_image_path)\n",
        "print(len(testing_image_path))"
      ]
    },
    {
      "cell_type": "code",
      "execution_count": 83,
      "metadata": {
        "colab": {
          "base_uri": "https://localhost:8080/",
          "height": 704
        },
        "id": "CNiZSKywQeqM",
        "outputId": "c0ab148d-81db-41fc-de1d-c792be9b00a9"
      },
      "outputs": [
        {
          "ename": "IndexError",
          "evalue": "list index out of range",
          "output_type": "error",
          "traceback": [
            "\u001b[1;31m---------------------------------------------------------------------------\u001b[0m",
            "\u001b[1;31mIndexError\u001b[0m                                Traceback (most recent call last)",
            "Cell \u001b[1;32mIn[83], line 1\u001b[0m\n\u001b[1;32m----> 1\u001b[0m visualize_dataset(image_path\u001b[39m=\u001b[39;49mtesting_image_path,rows\u001b[39m=\u001b[39;49m\u001b[39m5\u001b[39;49m,cols\u001b[39m=\u001b[39;49m\u001b[39m10\u001b[39;49m)\n",
            "Cell \u001b[1;32mIn[58], line 8\u001b[0m, in \u001b[0;36mvisualize_dataset\u001b[1;34m(image_path, rows, cols)\u001b[0m\n\u001b[0;32m      6\u001b[0m   fig\u001b[39m.\u001b[39msubplots_adjust(hspace\u001b[39m=\u001b[39m\u001b[39m1\u001b[39m)\n\u001b[0;32m      7\u001b[0m   plt\u001b[39m.\u001b[39mimshow(cv2\u001b[39m.\u001b[39mcvtColor(img_array,cv2\u001b[39m.\u001b[39mCOLOR_BGR2RGB))\n\u001b[1;32m----> 8\u001b[0m   plt\u001b[39m.\u001b[39mxlabel(image_path[i\u001b[39m-\u001b[39;49m\u001b[39m1\u001b[39;49m]\u001b[39m.\u001b[39;49msplit(\u001b[39m'\u001b[39;49m\u001b[39m/\u001b[39;49m\u001b[39m'\u001b[39;49m)[\u001b[39m-\u001b[39;49m\u001b[39m2\u001b[39;49m])\n\u001b[0;32m      9\u001b[0m plt\u001b[39m.\u001b[39mshow()\n",
            "\u001b[1;31mIndexError\u001b[0m: list index out of range"
          ]
        },
        {
          "data": {
            "image/png": "[encoded data removed]",
            "text/plain": [
              "<Figure size 2000x2000 with 1 Axes>"
            ]
          },
          "metadata": {},
          "output_type": "display_data"
        }
      ],
      "source": [
        "visualize_dataset(image_path=testing_image_path,rows=5,cols=10)"
      ]
    },
    {
      "cell_type": "markdown",
      "metadata": {
        "id": "DaiK5ajR8sbr"
      },
      "source": [
        "**<h3>Model Preparation</h3>**"
      ]
    },
    {
      "cell_type": "markdown",
      "metadata": {
        "id": "N6Eyq-vb86br"
      },
      "source": [
        "<h3>Steps In Model Preparation</h3>\n",
        "<h4>1. Choosing Framework and importing necessary libraries </h2>\n",
        "<h4> 2. Load datasets and Perform image augmentations </h2>\n",
        "<h4> 3. Model Selection  </h3>\n",
        "<h4> 4. Compiling our model </h4>\n",
        "<h4> 5. Setting our model checkpoints </h4>\n"
      ]
    },
    {
      "cell_type": "markdown",
      "metadata": {
        "id": "7suIQ4QqEEwa"
      },
      "source": [
        "<h4>Step 1 Keras Framework </h1>"
      ]
    },
    {
      "cell_type": "code",
      "execution_count": 63,
      "metadata": {
        "id": "vzm_NuceQetM"
      },
      "outputs": [],
      "source": [
        "import tensorflow as tf\n",
        "import numpy as np\n",
        "from tensorflow import keras\n",
        "from keras.layers import Dense,Dropout,Input,Flatten\n",
        "from keras.models import Model\n",
        "from keras.optimizers import Adam\n",
        "from keras.preprocessing.image import ImageDataGenerator\n",
        "from keras.callbacks import ModelCheckpoint\n",
        "from keras.applications.mobilenet_v2 import MobileNetV2\n",
        "from keras.models import model_from_json\n",
        "import json"
      ]
    },
    {
      "cell_type": "markdown",
      "metadata": {
        "id": "ZMZOc2G7EJ24"
      },
      "source": [
        "<h4>Step 2 </h4>"
      ]
    },
    {
      "cell_type": "code",
      "execution_count": 64,
      "metadata": {
        "id": "58rZvM8q-6Si"
      },
      "outputs": [],
      "source": [
        "train_datagen = ImageDataGenerator(brightness_range=(0.8,1.2),rotation_range=30,width_shift_range=0.2,height_shift_range=0.2,fill_mode='nearest',shear_range=0.2,zoom_range=0.3,rescale=1./255)\n",
        "valid_datagen = ImageDataGenerator(rescale=1./255)"
      ]
    },
    {
      "cell_type": "code",
      "execution_count": 65,
      "metadata": {
        "colab": {
          "base_uri": "https://localhost:8080/"
        },
        "id": "O7pDOlis-6U_",
        "outputId": "4f832de6-819e-44f8-81c7-c93ce0992655"
      },
      "outputs": [
        {
          "name": "stdout",
          "output_type": "stream",
          "text": [
            "Found 4220 images belonging to 2 classes.\n"
          ]
        }
      ],
      "source": [
        "train_generator = train_datagen.flow_from_directory(train_dir,target_size=(160,160),color_mode='rgb',\n",
        "                                                    class_mode='binary',batch_size=25,shuffle=True)"
      ]
    },
    {
      "cell_type": "code",
      "execution_count": 66,
      "metadata": {
        "colab": {
          "base_uri": "https://localhost:8080/"
        },
        "id": "iCiHWbi_-6Xc",
        "outputId": "5b542b83-63a0-4983-c3f2-188f654d9c8f"
      },
      "outputs": [
        {
          "name": "stdout",
          "output_type": "stream",
          "text": [
            "Found 951 images belonging to 2 classes.\n"
          ]
        }
      ],
      "source": [
        "valid_generator = valid_datagen.flow_from_directory(test_dir,target_size=(160,160),color_mode='rgb',\n",
        "                                                    class_mode='binary',batch_size=25)"
      ]
    },
    {
      "cell_type": "markdown",
      "metadata": {
        "id": "3ZjVp31lEN--"
      },
      "source": [
        "<h4>Step 3 Model Selection and Transfer Learning</h4>"
      ]
    },
    {
      "cell_type": "code",
      "execution_count": 80,
      "metadata": {
        "colab": {
          "base_uri": "https://localhost:8080/"
        },
        "id": "B7S7feQG-6Zn",
        "outputId": "70c2bf8e-8759-42cf-b8e9-334ed60ebca1"
      },
      "outputs": [
        {
          "name": "stdout",
          "output_type": "stream",
          "text": [
            "WARNING:tensorflow:`input_shape` is undefined or non-square, or `rows` is not in [96, 128, 160, 192, 224]. Weights for input shape (224, 224) will be loaded as the default.\n"
          ]
        }
      ],
      "source": [
        "mobilenet = MobileNetV2(weights=\"imagenet\",include_top=False,input_tensor=Input(shape=(160,160,3)))"
      ]
    },
    {
      "cell_type": "code",
      "execution_count": 67,
      "metadata": {
        "id": "tXBYZA0y-OpH"
      },
      "outputs": [],
      "source": [
        "mobilenet.trainable = False"
      ]
    },
    {
      "cell_type": "code",
      "execution_count": 68,
      "metadata": {
        "id": "80piSoG2_G2S"
      },
      "outputs": [],
      "source": [
        "output = Flatten()(mobilenet.output)\n",
        "output = Dropout(0.3)(output)\n",
        "output = Dense(units = 8,activation='relu')(output)\n",
        "prediction = Dense(1,activation='sigmoid')(output)"
      ]
    },
    {
      "cell_type": "code",
      "execution_count": 13,
      "metadata": {
        "colab": {
          "base_uri": "https://localhost:8080/"
        },
        "id": "Y4b4j1OP_Iwq",
        "outputId": "66c95666-dc16-4bc3-c1dc-8c2323353095"
      },
      "outputs": [
        {
          "name": "stdout",
          "output_type": "stream",
          "text": [
            "Model: \"model\"\n",
            "__________________________________________________________________________________________________\n",
            "Layer (type)                    Output Shape         Param #     Connected to                     \n",
            "==================================================================================================\n",
            "input_1 (InputLayer)            [(None, 160, 160, 3) 0                                            \n",
            "__________________________________________________________________________________________________\n",
            "Conv1 (Conv2D)                  (None, 80, 80, 32)   864         input_1[0][0]                    \n",
            "__________________________________________________________________________________________________\n",
            "bn_Conv1 (BatchNormalization)   (None, 80, 80, 32)   128         Conv1[0][0]                      \n",
            "__________________________________________________________________________________________________\n",
            "Conv1_relu (ReLU)               (None, 80, 80, 32)   0           bn_Conv1[0][0]                   \n",
            "__________________________________________________________________________________________________\n",
            "expanded_conv_depthwise (Depthw (None, 80, 80, 32)   288         Conv1_relu[0][0]                 \n",
            "__________________________________________________________________________________________________\n",
            "expanded_conv_depthwise_BN (Bat (None, 80, 80, 32)   128         expanded_conv_depthwise[0][0]    \n",
            "__________________________________________________________________________________________________\n",
            "expanded_conv_depthwise_relu (R (None, 80, 80, 32)   0           expanded_conv_depthwise_BN[0][0] \n",
            "__________________________________________________________________________________________________\n",
            "expanded_conv_project (Conv2D)  (None, 80, 80, 16)   512         expanded_conv_depthwise_relu[0][0\n",
            "__________________________________________________________________________________________________\n",
            "expanded_conv_project_BN (Batch (None, 80, 80, 16)   64          expanded_conv_project[0][0]      \n",
            "__________________________________________________________________________________________________\n",
            "block_1_expand (Conv2D)         (None, 80, 80, 96)   1536        expanded_conv_project_BN[0][0]   \n",
            "__________________________________________________________________________________________________\n",
            "block_1_expand_BN (BatchNormali (None, 80, 80, 96)   384         block_1_expand[0][0]             \n",
            "__________________________________________________________________________________________________\n",
            "block_1_expand_relu (ReLU)      (None, 80, 80, 96)   0           block_1_expand_BN[0][0]          \n",
            "__________________________________________________________________________________________________\n",
            "block_1_pad (ZeroPadding2D)     (None, 81, 81, 96)   0           block_1_expand_relu[0][0]        \n",
            "__________________________________________________________________________________________________\n",
            "block_1_depthwise (DepthwiseCon (None, 40, 40, 96)   864         block_1_pad[0][0]                \n",
            "__________________________________________________________________________________________________\n",
            "block_1_depthwise_BN (BatchNorm (None, 40, 40, 96)   384         block_1_depthwise[0][0]          \n",
            "__________________________________________________________________________________________________\n",
            "block_1_depthwise_relu (ReLU)   (None, 40, 40, 96)   0           block_1_depthwise_BN[0][0]       \n",
            "__________________________________________________________________________________________________\n",
            "block_1_project (Conv2D)        (None, 40, 40, 24)   2304        block_1_depthwise_relu[0][0]     \n",
            "__________________________________________________________________________________________________\n",
            "block_1_project_BN (BatchNormal (None, 40, 40, 24)   96          block_1_project[0][0]            \n",
            "__________________________________________________________________________________________________\n",
            "block_2_expand (Conv2D)         (None, 40, 40, 144)  3456        block_1_project_BN[0][0]         \n",
            "__________________________________________________________________________________________________\n",
            "block_2_expand_BN (BatchNormali (None, 40, 40, 144)  576         block_2_expand[0][0]             \n",
            "__________________________________________________________________________________________________\n",
            "block_2_expand_relu (ReLU)      (None, 40, 40, 144)  0           block_2_expand_BN[0][0]          \n",
            "__________________________________________________________________________________________________\n",
            "block_2_depthwise (DepthwiseCon (None, 40, 40, 144)  1296        block_2_expand_relu[0][0]        \n",
            "__________________________________________________________________________________________________\n",
            "block_2_depthwise_BN (BatchNorm (None, 40, 40, 144)  576         block_2_depthwise[0][0]          \n",
            "__________________________________________________________________________________________________\n",
            "block_2_depthwise_relu (ReLU)   (None, 40, 40, 144)  0           block_2_depthwise_BN[0][0]       \n",
            "__________________________________________________________________________________________________\n",
            "block_2_project (Conv2D)        (None, 40, 40, 24)   3456        block_2_depthwise_relu[0][0]     \n",
            "__________________________________________________________________________________________________\n",
            "block_2_project_BN (BatchNormal (None, 40, 40, 24)   96          block_2_project[0][0]            \n",
            "__________________________________________________________________________________________________\n",
            "block_2_add (Add)               (None, 40, 40, 24)   0           block_1_project_BN[0][0]         \n",
            "                                                                 block_2_project_BN[0][0]         \n",
            "__________________________________________________________________________________________________\n",
            "block_3_expand (Conv2D)         (None, 40, 40, 144)  3456        block_2_add[0][0]                \n",
            "__________________________________________________________________________________________________\n",
            "block_3_expand_BN (BatchNormali (None, 40, 40, 144)  576         block_3_expand[0][0]             \n",
            "__________________________________________________________________________________________________\n",
            "block_3_expand_relu (ReLU)      (None, 40, 40, 144)  0           block_3_expand_BN[0][0]          \n",
            "__________________________________________________________________________________________________\n",
            "block_3_pad (ZeroPadding2D)     (None, 41, 41, 144)  0           block_3_expand_relu[0][0]        \n",
            "__________________________________________________________________________________________________\n",
            "block_3_depthwise (DepthwiseCon (None, 20, 20, 144)  1296        block_3_pad[0][0]                \n",
            "__________________________________________________________________________________________________\n",
            "block_3_depthwise_BN (BatchNorm (None, 20, 20, 144)  576         block_3_depthwise[0][0]          \n",
            "__________________________________________________________________________________________________\n",
            "block_3_depthwise_relu (ReLU)   (None, 20, 20, 144)  0           block_3_depthwise_BN[0][0]       \n",
            "__________________________________________________________________________________________________\n",
            "block_3_project (Conv2D)        (None, 20, 20, 32)   4608        block_3_depthwise_relu[0][0]     \n",
            "__________________________________________________________________________________________________\n",
            "block_3_project_BN (BatchNormal (None, 20, 20, 32)   128         block_3_project[0][0]            \n",
            "__________________________________________________________________________________________________\n",
            "block_4_expand (Conv2D)         (None, 20, 20, 192)  6144        block_3_project_BN[0][0]         \n",
            "__________________________________________________________________________________________________\n",
            "block_4_expand_BN (BatchNormali (None, 20, 20, 192)  768         block_4_expand[0][0]             \n",
            "__________________________________________________________________________________________________\n",
            "block_4_expand_relu (ReLU)      (None, 20, 20, 192)  0           block_4_expand_BN[0][0]          \n",
            "__________________________________________________________________________________________________\n",
            "block_4_depthwise (DepthwiseCon (None, 20, 20, 192)  1728        block_4_expand_relu[0][0]        \n",
            "__________________________________________________________________________________________________\n",
            "block_4_depthwise_BN (BatchNorm (None, 20, 20, 192)  768         block_4_depthwise[0][0]          \n",
            "__________________________________________________________________________________________________\n",
            "block_4_depthwise_relu (ReLU)   (None, 20, 20, 192)  0           block_4_depthwise_BN[0][0]       \n",
            "__________________________________________________________________________________________________\n",
            "block_4_project (Conv2D)        (None, 20, 20, 32)   6144        block_4_depthwise_relu[0][0]     \n",
            "__________________________________________________________________________________________________\n",
            "block_4_project_BN (BatchNormal (None, 20, 20, 32)   128         block_4_project[0][0]            \n",
            "__________________________________________________________________________________________________\n",
            "block_4_add (Add)               (None, 20, 20, 32)   0           block_3_project_BN[0][0]         \n",
            "                                                                 block_4_project_BN[0][0]         \n",
            "__________________________________________________________________________________________________\n",
            "block_5_expand (Conv2D)         (None, 20, 20, 192)  6144        block_4_add[0][0]                \n",
            "__________________________________________________________________________________________________\n",
            "block_5_expand_BN (BatchNormali (None, 20, 20, 192)  768         block_5_expand[0][0]             \n",
            "__________________________________________________________________________________________________\n",
            "block_5_expand_relu (ReLU)      (None, 20, 20, 192)  0           block_5_expand_BN[0][0]          \n",
            "__________________________________________________________________________________________________\n",
            "block_5_depthwise (DepthwiseCon (None, 20, 20, 192)  1728        block_5_expand_relu[0][0]        \n",
            "__________________________________________________________________________________________________\n",
            "block_5_depthwise_BN (BatchNorm (None, 20, 20, 192)  768         block_5_depthwise[0][0]          \n",
            "__________________________________________________________________________________________________\n",
            "block_5_depthwise_relu (ReLU)   (None, 20, 20, 192)  0           block_5_depthwise_BN[0][0]       \n",
            "__________________________________________________________________________________________________\n",
            "block_5_project (Conv2D)        (None, 20, 20, 32)   6144        block_5_depthwise_relu[0][0]     \n",
            "__________________________________________________________________________________________________\n",
            "block_5_project_BN (BatchNormal (None, 20, 20, 32)   128         block_5_project[0][0]            \n",
            "__________________________________________________________________________________________________\n",
            "block_5_add (Add)               (None, 20, 20, 32)   0           block_4_add[0][0]                \n",
            "                                                                 block_5_project_BN[0][0]         \n",
            "__________________________________________________________________________________________________\n",
            "block_6_expand (Conv2D)         (None, 20, 20, 192)  6144        block_5_add[0][0]                \n",
            "__________________________________________________________________________________________________\n",
            "block_6_expand_BN (BatchNormali (None, 20, 20, 192)  768         block_6_expand[0][0]             \n",
            "__________________________________________________________________________________________________\n",
            "block_6_expand_relu (ReLU)      (None, 20, 20, 192)  0           block_6_expand_BN[0][0]          \n",
            "__________________________________________________________________________________________________\n",
            "block_6_pad (ZeroPadding2D)     (None, 21, 21, 192)  0           block_6_expand_relu[0][0]        \n",
            "__________________________________________________________________________________________________\n",
            "block_6_depthwise (DepthwiseCon (None, 10, 10, 192)  1728        block_6_pad[0][0]                \n",
            "__________________________________________________________________________________________________\n",
            "block_6_depthwise_BN (BatchNorm (None, 10, 10, 192)  768         block_6_depthwise[0][0]          \n",
            "__________________________________________________________________________________________________\n",
            "block_6_depthwise_relu (ReLU)   (None, 10, 10, 192)  0           block_6_depthwise_BN[0][0]       \n",
            "__________________________________________________________________________________________________\n",
            "block_6_project (Conv2D)        (None, 10, 10, 64)   12288       block_6_depthwise_relu[0][0]     \n",
            "__________________________________________________________________________________________________\n",
            "block_6_project_BN (BatchNormal (None, 10, 10, 64)   256         block_6_project[0][0]            \n",
            "__________________________________________________________________________________________________\n",
            "block_7_expand (Conv2D)         (None, 10, 10, 384)  24576       block_6_project_BN[0][0]         \n",
            "__________________________________________________________________________________________________\n",
            "block_7_expand_BN (BatchNormali (None, 10, 10, 384)  1536        block_7_expand[0][0]             \n",
            "__________________________________________________________________________________________________\n",
            "block_7_expand_relu (ReLU)      (None, 10, 10, 384)  0           block_7_expand_BN[0][0]          \n",
            "__________________________________________________________________________________________________\n",
            "block_7_depthwise (DepthwiseCon (None, 10, 10, 384)  3456        block_7_expand_relu[0][0]        \n",
            "__________________________________________________________________________________________________\n",
            "block_7_depthwise_BN (BatchNorm (None, 10, 10, 384)  1536        block_7_depthwise[0][0]          \n",
            "__________________________________________________________________________________________________\n",
            "block_7_depthwise_relu (ReLU)   (None, 10, 10, 384)  0           block_7_depthwise_BN[0][0]       \n",
            "__________________________________________________________________________________________________\n",
            "block_7_project (Conv2D)        (None, 10, 10, 64)   24576       block_7_depthwise_relu[0][0]     \n",
            "__________________________________________________________________________________________________\n",
            "block_7_project_BN (BatchNormal (None, 10, 10, 64)   256         block_7_project[0][0]            \n",
            "__________________________________________________________________________________________________\n",
            "block_7_add (Add)               (None, 10, 10, 64)   0           block_6_project_BN[0][0]         \n",
            "                                                                 block_7_project_BN[0][0]         \n",
            "__________________________________________________________________________________________________\n",
            "block_8_expand (Conv2D)         (None, 10, 10, 384)  24576       block_7_add[0][0]                \n",
            "__________________________________________________________________________________________________\n",
            "block_8_expand_BN (BatchNormali (None, 10, 10, 384)  1536        block_8_expand[0][0]             \n",
            "__________________________________________________________________________________________________\n",
            "block_8_expand_relu (ReLU)      (None, 10, 10, 384)  0           block_8_expand_BN[0][0]          \n",
            "__________________________________________________________________________________________________\n",
            "block_8_depthwise (DepthwiseCon (None, 10, 10, 384)  3456        block_8_expand_relu[0][0]        \n",
            "__________________________________________________________________________________________________\n",
            "block_8_depthwise_BN (BatchNorm (None, 10, 10, 384)  1536        block_8_depthwise[0][0]          \n",
            "__________________________________________________________________________________________________\n",
            "block_8_depthwise_relu (ReLU)   (None, 10, 10, 384)  0           block_8_depthwise_BN[0][0]       \n",
            "__________________________________________________________________________________________________\n",
            "block_8_project (Conv2D)        (None, 10, 10, 64)   24576       block_8_depthwise_relu[0][0]     \n",
            "__________________________________________________________________________________________________\n",
            "block_8_project_BN (BatchNormal (None, 10, 10, 64)   256         block_8_project[0][0]            \n",
            "__________________________________________________________________________________________________\n",
            "block_8_add (Add)               (None, 10, 10, 64)   0           block_7_add[0][0]                \n",
            "                                                                 block_8_project_BN[0][0]         \n",
            "__________________________________________________________________________________________________\n",
            "block_9_expand (Conv2D)         (None, 10, 10, 384)  24576       block_8_add[0][0]                \n",
            "__________________________________________________________________________________________________\n",
            "block_9_expand_BN (BatchNormali (None, 10, 10, 384)  1536        block_9_expand[0][0]             \n",
            "__________________________________________________________________________________________________\n",
            "block_9_expand_relu (ReLU)      (None, 10, 10, 384)  0           block_9_expand_BN[0][0]          \n",
            "__________________________________________________________________________________________________\n",
            "block_9_depthwise (DepthwiseCon (None, 10, 10, 384)  3456        block_9_expand_relu[0][0]        \n",
            "__________________________________________________________________________________________________\n",
            "block_9_depthwise_BN (BatchNorm (None, 10, 10, 384)  1536        block_9_depthwise[0][0]          \n",
            "__________________________________________________________________________________________________\n",
            "block_9_depthwise_relu (ReLU)   (None, 10, 10, 384)  0           block_9_depthwise_BN[0][0]       \n",
            "__________________________________________________________________________________________________\n",
            "block_9_project (Conv2D)        (None, 10, 10, 64)   24576       block_9_depthwise_relu[0][0]     \n",
            "__________________________________________________________________________________________________\n",
            "block_9_project_BN (BatchNormal (None, 10, 10, 64)   256         block_9_project[0][0]            \n",
            "__________________________________________________________________________________________________\n",
            "block_9_add (Add)               (None, 10, 10, 64)   0           block_8_add[0][0]                \n",
            "                                                                 block_9_project_BN[0][0]         \n",
            "__________________________________________________________________________________________________\n",
            "block_10_expand (Conv2D)        (None, 10, 10, 384)  24576       block_9_add[0][0]                \n",
            "__________________________________________________________________________________________________\n",
            "block_10_expand_BN (BatchNormal (None, 10, 10, 384)  1536        block_10_expand[0][0]            \n",
            "__________________________________________________________________________________________________\n",
            "block_10_expand_relu (ReLU)     (None, 10, 10, 384)  0           block_10_expand_BN[0][0]         \n",
            "__________________________________________________________________________________________________\n",
            "block_10_depthwise (DepthwiseCo (None, 10, 10, 384)  3456        block_10_expand_relu[0][0]       \n",
            "__________________________________________________________________________________________________\n",
            "block_10_depthwise_BN (BatchNor (None, 10, 10, 384)  1536        block_10_depthwise[0][0]         \n",
            "__________________________________________________________________________________________________\n",
            "block_10_depthwise_relu (ReLU)  (None, 10, 10, 384)  0           block_10_depthwise_BN[0][0]      \n",
            "__________________________________________________________________________________________________\n",
            "block_10_project (Conv2D)       (None, 10, 10, 96)   36864       block_10_depthwise_relu[0][0]    \n",
            "__________________________________________________________________________________________________\n",
            "block_10_project_BN (BatchNorma (None, 10, 10, 96)   384         block_10_project[0][0]           \n",
            "__________________________________________________________________________________________________\n",
            "block_11_expand (Conv2D)        (None, 10, 10, 576)  55296       block_10_project_BN[0][0]        \n",
            "__________________________________________________________________________________________________\n",
            "block_11_expand_BN (BatchNormal (None, 10, 10, 576)  2304        block_11_expand[0][0]            \n",
            "__________________________________________________________________________________________________\n",
            "block_11_expand_relu (ReLU)     (None, 10, 10, 576)  0           block_11_expand_BN[0][0]         \n",
            "__________________________________________________________________________________________________\n",
            "block_11_depthwise (DepthwiseCo (None, 10, 10, 576)  5184        block_11_expand_relu[0][0]       \n",
            "__________________________________________________________________________________________________\n",
            "block_11_depthwise_BN (BatchNor (None, 10, 10, 576)  2304        block_11_depthwise[0][0]         \n",
            "__________________________________________________________________________________________________\n",
            "block_11_depthwise_relu (ReLU)  (None, 10, 10, 576)  0           block_11_depthwise_BN[0][0]      \n",
            "__________________________________________________________________________________________________\n",
            "block_11_project (Conv2D)       (None, 10, 10, 96)   55296       block_11_depthwise_relu[0][0]    \n",
            "__________________________________________________________________________________________________\n",
            "block_11_project_BN (BatchNorma (None, 10, 10, 96)   384         block_11_project[0][0]           \n",
            "__________________________________________________________________________________________________\n",
            "block_11_add (Add)              (None, 10, 10, 96)   0           block_10_project_BN[0][0]        \n",
            "                                                                 block_11_project_BN[0][0]        \n",
            "__________________________________________________________________________________________________\n",
            "block_12_expand (Conv2D)        (None, 10, 10, 576)  55296       block_11_add[0][0]               \n",
            "__________________________________________________________________________________________________\n",
            "block_12_expand_BN (BatchNormal (None, 10, 10, 576)  2304        block_12_expand[0][0]            \n",
            "__________________________________________________________________________________________________\n",
            "block_12_expand_relu (ReLU)     (None, 10, 10, 576)  0           block_12_expand_BN[0][0]         \n",
            "__________________________________________________________________________________________________\n",
            "block_12_depthwise (DepthwiseCo (None, 10, 10, 576)  5184        block_12_expand_relu[0][0]       \n",
            "__________________________________________________________________________________________________\n",
            "block_12_depthwise_BN (BatchNor (None, 10, 10, 576)  2304        block_12_depthwise[0][0]         \n",
            "__________________________________________________________________________________________________\n",
            "block_12_depthwise_relu (ReLU)  (None, 10, 10, 576)  0           block_12_depthwise_BN[0][0]      \n",
            "__________________________________________________________________________________________________\n",
            "block_12_project (Conv2D)       (None, 10, 10, 96)   55296       block_12_depthwise_relu[0][0]    \n",
            "__________________________________________________________________________________________________\n",
            "block_12_project_BN (BatchNorma (None, 10, 10, 96)   384         block_12_project[0][0]           \n",
            "__________________________________________________________________________________________________\n",
            "block_12_add (Add)              (None, 10, 10, 96)   0           block_11_add[0][0]               \n",
            "                                                                 block_12_project_BN[0][0]        \n",
            "__________________________________________________________________________________________________\n",
            "block_13_expand (Conv2D)        (None, 10, 10, 576)  55296       block_12_add[0][0]               \n",
            "__________________________________________________________________________________________________\n",
            "block_13_expand_BN (BatchNormal (None, 10, 10, 576)  2304        block_13_expand[0][0]            \n",
            "__________________________________________________________________________________________________\n",
            "block_13_expand_relu (ReLU)     (None, 10, 10, 576)  0           block_13_expand_BN[0][0]         \n",
            "__________________________________________________________________________________________________\n",
            "block_13_pad (ZeroPadding2D)    (None, 11, 11, 576)  0           block_13_expand_relu[0][0]       \n",
            "__________________________________________________________________________________________________\n",
            "block_13_depthwise (DepthwiseCo (None, 5, 5, 576)    5184        block_13_pad[0][0]               \n",
            "__________________________________________________________________________________________________\n",
            "block_13_depthwise_BN (BatchNor (None, 5, 5, 576)    2304        block_13_depthwise[0][0]         \n",
            "__________________________________________________________________________________________________\n",
            "block_13_depthwise_relu (ReLU)  (None, 5, 5, 576)    0           block_13_depthwise_BN[0][0]      \n",
            "__________________________________________________________________________________________________\n",
            "block_13_project (Conv2D)       (None, 5, 5, 160)    92160       block_13_depthwise_relu[0][0]    \n",
            "__________________________________________________________________________________________________\n",
            "block_13_project_BN (BatchNorma (None, 5, 5, 160)    640         block_13_project[0][0]           \n",
            "__________________________________________________________________________________________________\n",
            "block_14_expand (Conv2D)        (None, 5, 5, 960)    153600      block_13_project_BN[0][0]        \n",
            "__________________________________________________________________________________________________\n",
            "block_14_expand_BN (BatchNormal (None, 5, 5, 960)    3840        block_14_expand[0][0]            \n",
            "__________________________________________________________________________________________________\n",
            "block_14_expand_relu (ReLU)     (None, 5, 5, 960)    0           block_14_expand_BN[0][0]         \n",
            "__________________________________________________________________________________________________\n",
            "block_14_depthwise (DepthwiseCo (None, 5, 5, 960)    8640        block_14_expand_relu[0][0]       \n",
            "__________________________________________________________________________________________________\n",
            "block_14_depthwise_BN (BatchNor (None, 5, 5, 960)    3840        block_14_depthwise[0][0]         \n",
            "__________________________________________________________________________________________________\n",
            "block_14_depthwise_relu (ReLU)  (None, 5, 5, 960)    0           block_14_depthwise_BN[0][0]      \n",
            "__________________________________________________________________________________________________\n",
            "block_14_project (Conv2D)       (None, 5, 5, 160)    153600      block_14_depthwise_relu[0][0]    \n",
            "__________________________________________________________________________________________________\n",
            "block_14_project_BN (BatchNorma (None, 5, 5, 160)    640         block_14_project[0][0]           \n",
            "__________________________________________________________________________________________________\n",
            "block_14_add (Add)              (None, 5, 5, 160)    0           block_13_project_BN[0][0]        \n",
            "                                                                 block_14_project_BN[0][0]        \n",
            "__________________________________________________________________________________________________\n",
            "block_15_expand (Conv2D)        (None, 5, 5, 960)    153600      block_14_add[0][0]               \n",
            "__________________________________________________________________________________________________\n",
            "block_15_expand_BN (BatchNormal (None, 5, 5, 960)    3840        block_15_expand[0][0]            \n",
            "__________________________________________________________________________________________________\n",
            "block_15_expand_relu (ReLU)     (None, 5, 5, 960)    0           block_15_expand_BN[0][0]         \n",
            "__________________________________________________________________________________________________\n",
            "block_15_depthwise (DepthwiseCo (None, 5, 5, 960)    8640        block_15_expand_relu[0][0]       \n",
            "__________________________________________________________________________________________________\n",
            "block_15_depthwise_BN (BatchNor (None, 5, 5, 960)    3840        block_15_depthwise[0][0]         \n",
            "__________________________________________________________________________________________________\n",
            "block_15_depthwise_relu (ReLU)  (None, 5, 5, 960)    0           block_15_depthwise_BN[0][0]      \n",
            "__________________________________________________________________________________________________\n",
            "block_15_project (Conv2D)       (None, 5, 5, 160)    153600      block_15_depthwise_relu[0][0]    \n",
            "__________________________________________________________________________________________________\n",
            "block_15_project_BN (BatchNorma (None, 5, 5, 160)    640         block_15_project[0][0]           \n",
            "__________________________________________________________________________________________________\n",
            "block_15_add (Add)              (None, 5, 5, 160)    0           block_14_add[0][0]               \n",
            "                                                                 block_15_project_BN[0][0]        \n",
            "__________________________________________________________________________________________________\n",
            "block_16_expand (Conv2D)        (None, 5, 5, 960)    153600      block_15_add[0][0]               \n",
            "__________________________________________________________________________________________________\n",
            "block_16_expand_BN (BatchNormal (None, 5, 5, 960)    3840        block_16_expand[0][0]            \n",
            "__________________________________________________________________________________________________\n",
            "block_16_expand_relu (ReLU)     (None, 5, 5, 960)    0           block_16_expand_BN[0][0]         \n",
            "__________________________________________________________________________________________________\n",
            "block_16_depthwise (DepthwiseCo (None, 5, 5, 960)    8640        block_16_expand_relu[0][0]       \n",
            "__________________________________________________________________________________________________\n",
            "block_16_depthwise_BN (BatchNor (None, 5, 5, 960)    3840        block_16_depthwise[0][0]         \n",
            "__________________________________________________________________________________________________\n",
            "block_16_depthwise_relu (ReLU)  (None, 5, 5, 960)    0           block_16_depthwise_BN[0][0]      \n",
            "__________________________________________________________________________________________________\n",
            "block_16_project (Conv2D)       (None, 5, 5, 320)    307200      block_16_depthwise_relu[0][0]    \n",
            "__________________________________________________________________________________________________\n",
            "block_16_project_BN (BatchNorma (None, 5, 5, 320)    1280        block_16_project[0][0]           \n",
            "__________________________________________________________________________________________________\n",
            "Conv_1 (Conv2D)                 (None, 5, 5, 1280)   409600      block_16_project_BN[0][0]        \n",
            "__________________________________________________________________________________________________\n",
            "Conv_1_bn (BatchNormalization)  (None, 5, 5, 1280)   5120        Conv_1[0][0]                     \n",
            "__________________________________________________________________________________________________\n",
            "out_relu (ReLU)                 (None, 5, 5, 1280)   0           Conv_1_bn[0][0]                  \n",
            "__________________________________________________________________________________________________\n",
            "flatten_1 (Flatten)             (None, 32000)        0           out_relu[0][0]                   \n",
            "__________________________________________________________________________________________________\n",
            "dropout_1 (Dropout)             (None, 32000)        0           flatten_1[0][0]                  \n",
            "__________________________________________________________________________________________________\n",
            "dense_2 (Dense)                 (None, 8)            256008      dropout_1[0][0]                  \n",
            "__________________________________________________________________________________________________\n",
            "dense_3 (Dense)                 (None, 1)            9           dense_2[0][0]                    \n",
            "==================================================================================================\n",
            "Total params: 2,514,001\n",
            "Trainable params: 256,017\n",
            "Non-trainable params: 2,257,984\n",
            "__________________________________________________________________________________________________\n"
          ]
        }
      ],
      "source": [
        "model = Model(inputs = mobilenet.input,outputs = prediction)\n",
        "model.summary()"
      ]
    },
    {
      "cell_type": "markdown",
      "metadata": {
        "id": "Qc2GnI4aEd8p"
      },
      "source": [
        "<h4>Step 4 Compiling the models </h4>"
      ]
    },
    {
      "cell_type": "code",
      "execution_count": 69,
      "metadata": {
        "id": "nPMadWNQ_L6g"
      },
      "outputs": [],
      "source": [
        "# tell the model what cost and optimization method to use\n",
        "model.compile(\n",
        "  loss='binary_crossentropy',\n",
        "  optimizer=Adam(\n",
        "    learning_rate=0.000001,\n",
        "    beta_1=0.9,\n",
        "    beta_2=0.999,\n",
        "    epsilon=1e-07\n",
        "),\n",
        "  metrics=['accuracy']\n",
        ")"
      ]
    },
    {
      "cell_type": "markdown",
      "metadata": {
        "id": "Ss2422AjEk_e"
      },
      "source": [
        "<h4>Step 5 Setting our model checkpoints </h4>"
      ]
    },
    {
      "cell_type": "code",
      "execution_count": 70,
      "metadata": {
        "id": "R7HW-qI7_Nx5"
      },
      "outputs": [
        {
          "ename": "FileExistsError",
          "evalue": "[WinError 183] Cannot create a file when that file already exists: 'C:\\\\Users\\\\Akash\\\\Desktop\\\\Opencv\\\\model_weights\\\\'",
          "output_type": "error",
          "traceback": [
            "\u001b[1;31m---------------------------------------------------------------------------\u001b[0m",
            "\u001b[1;31mFileExistsError\u001b[0m                           Traceback (most recent call last)",
            "Cell \u001b[1;32mIn[70], line 2\u001b[0m\n\u001b[0;32m      1\u001b[0m \u001b[39mimport\u001b[39;00m \u001b[39mos\u001b[39;00m\n\u001b[1;32m----> 2\u001b[0m os\u001b[39m.\u001b[39;49mmkdir(\u001b[39m'\u001b[39;49m\u001b[39mC:\u001b[39;49m\u001b[39m\\\\\u001b[39;49;00m\u001b[39mUsers\u001b[39;49m\u001b[39m\\\\\u001b[39;49;00m\u001b[39mAkash\u001b[39;49m\u001b[39m\\\\\u001b[39;49;00m\u001b[39mDesktop\u001b[39;49m\u001b[39m\\\\\u001b[39;49;00m\u001b[39mOpencv\u001b[39;49m\u001b[39m\\\\\u001b[39;49;00m\u001b[39mmodel_weights\u001b[39;49m\u001b[39m\\\\\u001b[39;49;00m\u001b[39m'\u001b[39;49m)\n",
            "\u001b[1;31mFileExistsError\u001b[0m: [WinError 183] Cannot create a file when that file already exists: 'C:\\\\Users\\\\Akash\\\\Desktop\\\\Opencv\\\\model_weights\\\\'"
          ]
        }
      ],
      "source": [
        "import os\n",
        "os.mkdir('C:\\\\Users\\\\Akash\\\\Desktop\\\\Opencv\\\\model_weights\\\\')"
      ]
    },
    {
      "cell_type": "code",
      "execution_count": 71,
      "metadata": {
        "id": "AeFro5iF_SC1"
      },
      "outputs": [],
      "source": [
        "model_checkpoint = ModelCheckpoint('C:\\\\Users\\\\Akash\\Desktop\\\\Opencv\\\\model_weights\\\\finalyearproject_antispoofing_model_{epoch:02d}-{val_accuracy:.6f}.h5', monitor='val_loss', mode='min', verbose=1, save_best_only=True,save_weights_only=True)"
      ]
    },
    {
      "cell_type": "code",
      "execution_count": 74,
      "metadata": {
        "colab": {
          "base_uri": "https://localhost:8080/"
        },
        "id": "hLd8G506_U7x",
        "outputId": "efc9e296-e706-41ee-a7f7-02fa33f49c8d"
      },
      "outputs": [
        {
          "name": "stdout",
          "output_type": "stream",
          "text": [
            "Epoch 1/100\n",
            "168/168 [==============================] - 94s 558ms/step - loss: 0.3005 - accuracy: 0.8758 - val_loss: 0.1964 - val_accuracy: 0.9274\n",
            "\n",
            "Epoch 00001: val_loss improved from 0.19977 to 0.19636, saving model to C:\\Users\\Akash\\Desktop\\Opencv\\model_weights\\finalyearproject_antispoofing_model_01-0.927368.h5\n",
            "Epoch 2/100\n",
            "168/168 [==============================] - 82s 486ms/step - loss: 0.3053 - accuracy: 0.8718 - val_loss: 0.1867 - val_accuracy: 0.9263\n",
            "\n",
            "Epoch 00002: val_loss improved from 0.19636 to 0.18671, saving model to C:\\Users\\Akash\\Desktop\\Opencv\\model_weights\\finalyearproject_antispoofing_model_02-0.926316.h5\n",
            "Epoch 3/100\n",
            "168/168 [==============================] - 82s 490ms/step - loss: 0.2727 - accuracy: 0.8849 - val_loss: 0.1792 - val_accuracy: 0.9284\n",
            "\n",
            "Epoch 00003: val_loss improved from 0.18671 to 0.17915, saving model to C:\\Users\\Akash\\Desktop\\Opencv\\model_weights\\finalyearproject_antispoofing_model_03-0.928421.h5\n",
            "Epoch 4/100\n",
            "168/168 [==============================] - 88s 522ms/step - loss: 0.2614 - accuracy: 0.8942 - val_loss: 0.1763 - val_accuracy: 0.9274\n",
            "\n",
            "Epoch 00004: val_loss improved from 0.17915 to 0.17632, saving model to C:\\Users\\Akash\\Desktop\\Opencv\\model_weights\\finalyearproject_antispoofing_model_04-0.927368.h5\n",
            "Epoch 5/100\n",
            "168/168 [==============================] - 85s 508ms/step - loss: 0.2732 - accuracy: 0.8899 - val_loss: 0.1703 - val_accuracy: 0.9368\n",
            "\n",
            "Epoch 00005: val_loss improved from 0.17632 to 0.17031, saving model to C:\\Users\\Akash\\Desktop\\Opencv\\model_weights\\finalyearproject_antispoofing_model_05-0.936842.h5\n",
            "Epoch 6/100\n",
            "168/168 [==============================] - 86s 510ms/step - loss: 0.2474 - accuracy: 0.8932 - val_loss: 0.1656 - val_accuracy: 0.9347\n",
            "\n",
            "Epoch 00006: val_loss improved from 0.17031 to 0.16558, saving model to C:\\Users\\Akash\\Desktop\\Opencv\\model_weights\\finalyearproject_antispoofing_model_06-0.934737.h5\n",
            "Epoch 7/100\n",
            "168/168 [==============================] - 87s 517ms/step - loss: 0.2532 - accuracy: 0.8934 - val_loss: 0.1601 - val_accuracy: 0.9400\n",
            "\n",
            "Epoch 00007: val_loss improved from 0.16558 to 0.16005, saving model to C:\\Users\\Akash\\Desktop\\Opencv\\model_weights\\finalyearproject_antispoofing_model_07-0.940000.h5\n",
            "Epoch 8/100\n",
            "168/168 [==============================] - 85s 505ms/step - loss: 0.2450 - accuracy: 0.8999 - val_loss: 0.1566 - val_accuracy: 0.9389\n",
            "\n",
            "Epoch 00008: val_loss improved from 0.16005 to 0.15657, saving model to C:\\Users\\Akash\\Desktop\\Opencv\\model_weights\\finalyearproject_antispoofing_model_08-0.938947.h5\n",
            "Epoch 9/100\n",
            "168/168 [==============================] - 84s 499ms/step - loss: 0.2382 - accuracy: 0.9013 - val_loss: 0.1522 - val_accuracy: 0.9411\n",
            "\n",
            "Epoch 00009: val_loss improved from 0.15657 to 0.15219, saving model to C:\\Users\\Akash\\Desktop\\Opencv\\model_weights\\finalyearproject_antispoofing_model_09-0.941053.h5\n",
            "Epoch 10/100\n",
            "168/168 [==============================] - 85s 505ms/step - loss: 0.2380 - accuracy: 0.8980 - val_loss: 0.1496 - val_accuracy: 0.9400\n",
            "\n",
            "Epoch 00010: val_loss improved from 0.15219 to 0.14955, saving model to C:\\Users\\Akash\\Desktop\\Opencv\\model_weights\\finalyearproject_antispoofing_model_10-0.940000.h5\n",
            "Epoch 11/100\n",
            "168/168 [==============================] - 86s 513ms/step - loss: 0.2369 - accuracy: 0.9042 - val_loss: 0.1485 - val_accuracy: 0.9421\n",
            "\n",
            "Epoch 00011: val_loss improved from 0.14955 to 0.14852, saving model to C:\\Users\\Akash\\Desktop\\Opencv\\model_weights\\finalyearproject_antispoofing_model_11-0.942105.h5\n",
            "Epoch 12/100\n",
            "168/168 [==============================] - 84s 499ms/step - loss: 0.2299 - accuracy: 0.9037 - val_loss: 0.1444 - val_accuracy: 0.9442\n",
            "\n",
            "Epoch 00012: val_loss improved from 0.14852 to 0.14443, saving model to C:\\Users\\Akash\\Desktop\\Opencv\\model_weights\\finalyearproject_antispoofing_model_12-0.944211.h5\n",
            "Epoch 13/100\n",
            "168/168 [==============================] - 84s 501ms/step - loss: 0.2325 - accuracy: 0.9070 - val_loss: 0.1427 - val_accuracy: 0.9463\n",
            "\n",
            "Epoch 00013: val_loss improved from 0.14443 to 0.14267, saving model to C:\\Users\\Akash\\Desktop\\Opencv\\model_weights\\finalyearproject_antispoofing_model_13-0.946316.h5\n",
            "Epoch 14/100\n",
            "168/168 [==============================] - 84s 502ms/step - loss: 0.2151 - accuracy: 0.9142 - val_loss: 0.1372 - val_accuracy: 0.9484\n",
            "\n",
            "Epoch 00014: val_loss improved from 0.14267 to 0.13720, saving model to C:\\Users\\Akash\\Desktop\\Opencv\\model_weights\\finalyearproject_antispoofing_model_14-0.948421.h5\n",
            "Epoch 15/100\n",
            "168/168 [==============================] - 84s 498ms/step - loss: 0.2088 - accuracy: 0.9130 - val_loss: 0.1269 - val_accuracy: 0.9516\n",
            "\n",
            "Epoch 00015: val_loss improved from 0.13720 to 0.12694, saving model to C:\\Users\\Akash\\Desktop\\Opencv\\model_weights\\finalyearproject_antispoofing_model_15-0.951579.h5\n",
            "Epoch 16/100\n",
            "168/168 [==============================] - 84s 499ms/step - loss: 0.2036 - accuracy: 0.9182 - val_loss: 0.1243 - val_accuracy: 0.9537\n",
            "\n",
            "Epoch 00016: val_loss improved from 0.12694 to 0.12428, saving model to C:\\Users\\Akash\\Desktop\\Opencv\\model_weights\\finalyearproject_antispoofing_model_16-0.953684.h5\n",
            "Epoch 17/100\n",
            "168/168 [==============================] - 84s 502ms/step - loss: 0.2090 - accuracy: 0.9156 - val_loss: 0.1247 - val_accuracy: 0.9484\n",
            "\n",
            "Epoch 00017: val_loss did not improve from 0.12428\n",
            "Epoch 18/100\n",
            "168/168 [==============================] - 91s 541ms/step - loss: 0.2126 - accuracy: 0.9139 - val_loss: 0.1191 - val_accuracy: 0.9537\n",
            "\n",
            "Epoch 00018: val_loss improved from 0.12428 to 0.11914, saving model to C:\\Users\\Akash\\Desktop\\Opencv\\model_weights\\finalyearproject_antispoofing_model_18-0.953684.h5\n",
            "Epoch 19/100\n",
            "168/168 [==============================] - 86s 514ms/step - loss: 0.2155 - accuracy: 0.9106 - val_loss: 0.1164 - val_accuracy: 0.9526\n",
            "\n",
            "Epoch 00019: val_loss improved from 0.11914 to 0.11644, saving model to C:\\Users\\Akash\\Desktop\\Opencv\\model_weights\\finalyearproject_antispoofing_model_19-0.952632.h5\n",
            "Epoch 20/100\n",
            "168/168 [==============================] - 86s 512ms/step - loss: 0.2050 - accuracy: 0.9180 - val_loss: 0.1094 - val_accuracy: 0.9621\n",
            "\n",
            "Epoch 00020: val_loss improved from 0.11644 to 0.10943, saving model to C:\\Users\\Akash\\Desktop\\Opencv\\model_weights\\finalyearproject_antispoofing_model_20-0.962105.h5\n",
            "Epoch 21/100\n",
            "168/168 [==============================] - 86s 513ms/step - loss: 0.1799 - accuracy: 0.9261 - val_loss: 0.1107 - val_accuracy: 0.9537\n",
            "\n",
            "Epoch 00021: val_loss did not improve from 0.10943\n",
            "Epoch 22/100\n",
            "168/168 [==============================] - 86s 511ms/step - loss: 0.2041 - accuracy: 0.9185 - val_loss: 0.1050 - val_accuracy: 0.9611\n",
            "\n",
            "Epoch 00022: val_loss improved from 0.10943 to 0.10501, saving model to C:\\Users\\Akash\\Desktop\\Opencv\\model_weights\\finalyearproject_antispoofing_model_22-0.961053.h5\n",
            "Epoch 23/100\n",
            "168/168 [==============================] - 86s 514ms/step - loss: 0.1961 - accuracy: 0.9211 - val_loss: 0.1031 - val_accuracy: 0.9611\n",
            "\n",
            "Epoch 00023: val_loss improved from 0.10501 to 0.10307, saving model to C:\\Users\\Akash\\Desktop\\Opencv\\model_weights\\finalyearproject_antispoofing_model_23-0.961053.h5\n",
            "Epoch 24/100\n",
            "168/168 [==============================] - 86s 514ms/step - loss: 0.1935 - accuracy: 0.9261 - val_loss: 0.1030 - val_accuracy: 0.9600\n",
            "\n",
            "Epoch 00024: val_loss improved from 0.10307 to 0.10298, saving model to C:\\Users\\Akash\\Desktop\\Opencv\\model_weights\\finalyearproject_antispoofing_model_24-0.960000.h5\n",
            "Epoch 25/100\n",
            "168/168 [==============================] - 86s 512ms/step - loss: 0.1924 - accuracy: 0.9235 - val_loss: 0.1038 - val_accuracy: 0.9579\n",
            "\n",
            "Epoch 00025: val_loss did not improve from 0.10298\n",
            "Epoch 26/100\n",
            "168/168 [==============================] - 86s 511ms/step - loss: 0.1809 - accuracy: 0.9266 - val_loss: 0.0980 - val_accuracy: 0.9632\n",
            "\n",
            "Epoch 00026: val_loss improved from 0.10298 to 0.09805, saving model to C:\\Users\\Akash\\Desktop\\Opencv\\model_weights\\finalyearproject_antispoofing_model_26-0.963158.h5\n",
            "Epoch 27/100\n",
            "168/168 [==============================] - 87s 515ms/step - loss: 0.1799 - accuracy: 0.9266 - val_loss: 0.0993 - val_accuracy: 0.9600\n",
            "\n",
            "Epoch 00027: val_loss did not improve from 0.09805\n",
            "Epoch 28/100\n",
            "168/168 [==============================] - 87s 516ms/step - loss: 0.1709 - accuracy: 0.9328 - val_loss: 0.1010 - val_accuracy: 0.9621\n",
            "\n",
            "Epoch 00028: val_loss did not improve from 0.09805\n",
            "Epoch 29/100\n",
            "168/168 [==============================] - 86s 511ms/step - loss: 0.1902 - accuracy: 0.9223 - val_loss: 0.0970 - val_accuracy: 0.9621\n",
            "\n",
            "Epoch 00029: val_loss improved from 0.09805 to 0.09704, saving model to C:\\Users\\Akash\\Desktop\\Opencv\\model_weights\\finalyearproject_antispoofing_model_29-0.962105.h5\n",
            "Epoch 30/100\n",
            "168/168 [==============================] - 86s 511ms/step - loss: 0.1790 - accuracy: 0.9299 - val_loss: 0.0923 - val_accuracy: 0.9632\n",
            "\n",
            "Epoch 00030: val_loss improved from 0.09704 to 0.09231, saving model to C:\\Users\\Akash\\Desktop\\Opencv\\model_weights\\finalyearproject_antispoofing_model_30-0.963158.h5\n",
            "Epoch 31/100\n",
            "168/168 [==============================] - 86s 513ms/step - loss: 0.1830 - accuracy: 0.9254 - val_loss: 0.0925 - val_accuracy: 0.9621\n",
            "\n",
            "Epoch 00031: val_loss did not improve from 0.09231\n",
            "Epoch 32/100\n",
            "168/168 [==============================] - 88s 520ms/step - loss: 0.1671 - accuracy: 0.9361 - val_loss: 0.0901 - val_accuracy: 0.9632\n",
            "\n",
            "Epoch 00032: val_loss improved from 0.09231 to 0.09006, saving model to C:\\Users\\Akash\\Desktop\\Opencv\\model_weights\\finalyearproject_antispoofing_model_32-0.963158.h5\n",
            "Epoch 33/100\n",
            "168/168 [==============================] - 87s 519ms/step - loss: 0.1695 - accuracy: 0.9375 - val_loss: 0.0879 - val_accuracy: 0.9653\n",
            "\n",
            "Epoch 00033: val_loss improved from 0.09006 to 0.08790, saving model to C:\\Users\\Akash\\Desktop\\Opencv\\model_weights\\finalyearproject_antispoofing_model_33-0.965263.h5\n",
            "Epoch 34/100\n",
            "168/168 [==============================] - 87s 518ms/step - loss: 0.1703 - accuracy: 0.9290 - val_loss: 0.0928 - val_accuracy: 0.9663\n",
            "\n",
            "Epoch 00034: val_loss did not improve from 0.08790\n",
            "Epoch 35/100\n",
            "168/168 [==============================] - 87s 515ms/step - loss: 0.1715 - accuracy: 0.9323 - val_loss: 0.0887 - val_accuracy: 0.9642\n",
            "\n",
            "Epoch 00035: val_loss did not improve from 0.08790\n",
            "Epoch 36/100\n",
            "168/168 [==============================] - 86s 514ms/step - loss: 0.1486 - accuracy: 0.9449 - val_loss: 0.0872 - val_accuracy: 0.9663\n",
            "\n",
            "Epoch 00036: val_loss improved from 0.08790 to 0.08719, saving model to C:\\Users\\Akash\\Desktop\\Opencv\\model_weights\\finalyearproject_antispoofing_model_36-0.966316.h5\n",
            "Epoch 37/100\n",
            "168/168 [==============================] - 86s 513ms/step - loss: 0.1621 - accuracy: 0.9361 - val_loss: 0.0820 - val_accuracy: 0.9695\n",
            "\n",
            "Epoch 00037: val_loss improved from 0.08719 to 0.08197, saving model to C:\\Users\\Akash\\Desktop\\Opencv\\model_weights\\finalyearproject_antispoofing_model_37-0.969474.h5\n",
            "Epoch 38/100\n",
            "168/168 [==============================] - 87s 516ms/step - loss: 0.1551 - accuracy: 0.9433 - val_loss: 0.0844 - val_accuracy: 0.9674\n",
            "\n",
            "Epoch 00038: val_loss did not improve from 0.08197\n",
            "Epoch 39/100\n",
            "168/168 [==============================] - 86s 513ms/step - loss: 0.1545 - accuracy: 0.9411 - val_loss: 0.0787 - val_accuracy: 0.9705\n",
            "\n",
            "Epoch 00039: val_loss improved from 0.08197 to 0.07873, saving model to C:\\Users\\Akash\\Desktop\\Opencv\\model_weights\\finalyearproject_antispoofing_model_39-0.970526.h5\n",
            "Epoch 40/100\n",
            "168/168 [==============================] - 86s 513ms/step - loss: 0.1521 - accuracy: 0.9435 - val_loss: 0.0788 - val_accuracy: 0.9716\n",
            "\n",
            "Epoch 00040: val_loss did not improve from 0.07873\n",
            "Epoch 41/100\n",
            "168/168 [==============================] - 86s 513ms/step - loss: 0.1490 - accuracy: 0.9426 - val_loss: 0.0781 - val_accuracy: 0.9716\n",
            "\n",
            "Epoch 00041: val_loss improved from 0.07873 to 0.07806, saving model to C:\\Users\\Akash\\Desktop\\Opencv\\model_weights\\finalyearproject_antispoofing_model_41-0.971579.h5\n",
            "Epoch 42/100\n",
            "168/168 [==============================] - 86s 513ms/step - loss: 0.1467 - accuracy: 0.9440 - val_loss: 0.0741 - val_accuracy: 0.9747\n",
            "\n",
            "Epoch 00042: val_loss improved from 0.07806 to 0.07414, saving model to C:\\Users\\Akash\\Desktop\\Opencv\\model_weights\\finalyearproject_antispoofing_model_42-0.974737.h5\n",
            "Epoch 43/100\n",
            "168/168 [==============================] - 90s 536ms/step - loss: 0.1463 - accuracy: 0.9421 - val_loss: 0.0760 - val_accuracy: 0.9726\n",
            "\n",
            "Epoch 00043: val_loss did not improve from 0.07414\n",
            "Epoch 44/100\n",
            "168/168 [==============================] - 86s 513ms/step - loss: 0.1458 - accuracy: 0.9449 - val_loss: 0.0723 - val_accuracy: 0.9768\n",
            "\n",
            "Epoch 00044: val_loss improved from 0.07414 to 0.07234, saving model to C:\\Users\\Akash\\Desktop\\Opencv\\model_weights\\finalyearproject_antispoofing_model_44-0.976842.h5\n",
            "Epoch 45/100\n",
            "168/168 [==============================] - 87s 517ms/step - loss: 0.1577 - accuracy: 0.9390 - val_loss: 0.0722 - val_accuracy: 0.9758\n",
            "\n",
            "Epoch 00045: val_loss improved from 0.07234 to 0.07222, saving model to C:\\Users\\Akash\\Desktop\\Opencv\\model_weights\\finalyearproject_antispoofing_model_45-0.975789.h5\n",
            "Epoch 46/100\n",
            "168/168 [==============================] - 86s 514ms/step - loss: 0.1545 - accuracy: 0.9371 - val_loss: 0.0741 - val_accuracy: 0.9726\n",
            "\n",
            "Epoch 00046: val_loss did not improve from 0.07222\n",
            "Epoch 47/100\n",
            "168/168 [==============================] - 90s 536ms/step - loss: 0.1398 - accuracy: 0.9473 - val_loss: 0.0690 - val_accuracy: 0.9789\n",
            "\n",
            "Epoch 00047: val_loss improved from 0.07222 to 0.06896, saving model to C:\\Users\\Akash\\Desktop\\Opencv\\model_weights\\finalyearproject_antispoofing_model_47-0.978947.h5\n",
            "Epoch 48/100\n",
            "168/168 [==============================] - 90s 535ms/step - loss: 0.1417 - accuracy: 0.9459 - val_loss: 0.0703 - val_accuracy: 0.9779\n",
            "\n",
            "Epoch 00048: val_loss did not improve from 0.06896\n",
            "Epoch 49/100\n",
            "168/168 [==============================] - 84s 499ms/step - loss: 0.1439 - accuracy: 0.9445 - val_loss: 0.0687 - val_accuracy: 0.9779\n",
            "\n",
            "Epoch 00049: val_loss improved from 0.06896 to 0.06865, saving model to C:\\Users\\Akash\\Desktop\\Opencv\\model_weights\\finalyearproject_antispoofing_model_49-0.977895.h5\n",
            "Epoch 50/100\n",
            "168/168 [==============================] - 84s 500ms/step - loss: 0.1391 - accuracy: 0.9483 - val_loss: 0.0682 - val_accuracy: 0.9779\n",
            "\n",
            "Epoch 00050: val_loss improved from 0.06865 to 0.06824, saving model to C:\\Users\\Akash\\Desktop\\Opencv\\model_weights\\finalyearproject_antispoofing_model_50-0.977895.h5\n",
            "Epoch 51/100\n",
            "168/168 [==============================] - 84s 502ms/step - loss: 0.1410 - accuracy: 0.9442 - val_loss: 0.0663 - val_accuracy: 0.9789\n",
            "\n",
            "Epoch 00051: val_loss improved from 0.06824 to 0.06631, saving model to C:\\Users\\Akash\\Desktop\\Opencv\\model_weights\\finalyearproject_antispoofing_model_51-0.978947.h5\n",
            "Epoch 52/100\n",
            "168/168 [==============================] - 85s 504ms/step - loss: 0.1393 - accuracy: 0.9476 - val_loss: 0.0689 - val_accuracy: 0.9768\n",
            "\n",
            "Epoch 00052: val_loss did not improve from 0.06631\n",
            "Epoch 53/100\n",
            "168/168 [==============================] - 84s 501ms/step - loss: 0.1369 - accuracy: 0.9497 - val_loss: 0.0679 - val_accuracy: 0.9779\n",
            "\n",
            "Epoch 00053: val_loss did not improve from 0.06631\n",
            "Epoch 54/100\n",
            "168/168 [==============================] - 84s 500ms/step - loss: 0.1334 - accuracy: 0.9485 - val_loss: 0.0647 - val_accuracy: 0.9789\n",
            "\n",
            "Epoch 00054: val_loss improved from 0.06631 to 0.06465, saving model to C:\\Users\\Akash\\Desktop\\Opencv\\model_weights\\finalyearproject_antispoofing_model_54-0.978947.h5\n",
            "Epoch 55/100\n",
            "168/168 [==============================] - 84s 501ms/step - loss: 0.1334 - accuracy: 0.9495 - val_loss: 0.0654 - val_accuracy: 0.9779\n",
            "\n",
            "Epoch 00055: val_loss did not improve from 0.06465\n",
            "Epoch 56/100\n",
            "168/168 [==============================] - 84s 500ms/step - loss: 0.1335 - accuracy: 0.9471 - val_loss: 0.0628 - val_accuracy: 0.9789\n",
            "\n",
            "Epoch 00056: val_loss improved from 0.06465 to 0.06282, saving model to C:\\Users\\Akash\\Desktop\\Opencv\\model_weights\\finalyearproject_antispoofing_model_56-0.978947.h5\n",
            "Epoch 57/100\n",
            "168/168 [==============================] - 84s 500ms/step - loss: 0.1354 - accuracy: 0.9502 - val_loss: 0.0626 - val_accuracy: 0.9789\n",
            "\n",
            "Epoch 00057: val_loss improved from 0.06282 to 0.06263, saving model to C:\\Users\\Akash\\Desktop\\Opencv\\model_weights\\finalyearproject_antispoofing_model_57-0.978947.h5\n",
            "Epoch 58/100\n",
            "168/168 [==============================] - 85s 503ms/step - loss: 0.1391 - accuracy: 0.9423 - val_loss: 0.0637 - val_accuracy: 0.9789\n",
            "\n",
            "Epoch 00058: val_loss did not improve from 0.06263\n",
            "Epoch 59/100\n",
            "168/168 [==============================] - 90s 534ms/step - loss: 0.1425 - accuracy: 0.9461 - val_loss: 0.0609 - val_accuracy: 0.9821\n",
            "\n",
            "Epoch 00059: val_loss improved from 0.06263 to 0.06088, saving model to C:\\Users\\Akash\\Desktop\\Opencv\\model_weights\\finalyearproject_antispoofing_model_59-0.982105.h5\n",
            "Epoch 60/100\n",
            "168/168 [==============================] - 87s 516ms/step - loss: 0.1370 - accuracy: 0.9483 - val_loss: 0.0614 - val_accuracy: 0.9811\n",
            "\n",
            "Epoch 00060: val_loss did not improve from 0.06088\n",
            "Epoch 61/100\n",
            "168/168 [==============================] - 87s 517ms/step - loss: 0.1287 - accuracy: 0.9509 - val_loss: 0.0610 - val_accuracy: 0.9811\n",
            "\n",
            "Epoch 00061: val_loss did not improve from 0.06088\n",
            "Epoch 62/100\n",
            "168/168 [==============================] - 86s 511ms/step - loss: 0.1272 - accuracy: 0.9504 - val_loss: 0.0619 - val_accuracy: 0.9779\n",
            "\n",
            "Epoch 00062: val_loss did not improve from 0.06088\n",
            "Epoch 63/100\n",
            "168/168 [==============================] - 86s 512ms/step - loss: 0.1290 - accuracy: 0.9521 - val_loss: 0.0553 - val_accuracy: 0.9811\n",
            "\n",
            "Epoch 00063: val_loss improved from 0.06088 to 0.05530, saving model to C:\\Users\\Akash\\Desktop\\Opencv\\model_weights\\finalyearproject_antispoofing_model_63-0.981053.h5\n",
            "Epoch 64/100\n",
            "168/168 [==============================] - 86s 512ms/step - loss: 0.1257 - accuracy: 0.9502 - val_loss: 0.0556 - val_accuracy: 0.9821\n",
            "\n",
            "Epoch 00064: val_loss did not improve from 0.05530\n",
            "Epoch 65/100\n",
            "168/168 [==============================] - 86s 514ms/step - loss: 0.1222 - accuracy: 0.9549 - val_loss: 0.0560 - val_accuracy: 0.9821\n",
            "\n",
            "Epoch 00065: val_loss did not improve from 0.05530\n",
            "Epoch 66/100\n",
            "168/168 [==============================] - 86s 514ms/step - loss: 0.1323 - accuracy: 0.9483 - val_loss: 0.0565 - val_accuracy: 0.9821\n",
            "\n",
            "Epoch 00066: val_loss did not improve from 0.05530\n",
            "Epoch 67/100\n",
            "168/168 [==============================] - 86s 514ms/step - loss: 0.1196 - accuracy: 0.9545 - val_loss: 0.0549 - val_accuracy: 0.9821\n",
            "\n",
            "Epoch 00067: val_loss improved from 0.05530 to 0.05489, saving model to C:\\Users\\Akash\\Desktop\\Opencv\\model_weights\\finalyearproject_antispoofing_model_67-0.982105.h5\n",
            "Epoch 68/100\n",
            "168/168 [==============================] - 86s 513ms/step - loss: 0.1110 - accuracy: 0.9614 - val_loss: 0.0590 - val_accuracy: 0.9811\n",
            "\n",
            "Epoch 00068: val_loss did not improve from 0.05489\n",
            "Epoch 69/100\n",
            "168/168 [==============================] - 86s 514ms/step - loss: 0.1174 - accuracy: 0.9554 - val_loss: 0.0543 - val_accuracy: 0.9821\n",
            "\n",
            "Epoch 00069: val_loss improved from 0.05489 to 0.05434, saving model to C:\\Users\\Akash\\Desktop\\Opencv\\model_weights\\finalyearproject_antispoofing_model_69-0.982105.h5\n",
            "Epoch 70/100\n",
            "168/168 [==============================] - 86s 512ms/step - loss: 0.1144 - accuracy: 0.9530 - val_loss: 0.0547 - val_accuracy: 0.9811\n",
            "\n",
            "Epoch 00070: val_loss did not improve from 0.05434\n",
            "Epoch 71/100\n",
            "168/168 [==============================] - 86s 512ms/step - loss: 0.1161 - accuracy: 0.9552 - val_loss: 0.0526 - val_accuracy: 0.9821\n",
            "\n",
            "Epoch 00071: val_loss improved from 0.05434 to 0.05255, saving model to C:\\Users\\Akash\\Desktop\\Opencv\\model_weights\\finalyearproject_antispoofing_model_71-0.982105.h5\n",
            "Epoch 72/100\n",
            "168/168 [==============================] - 87s 517ms/step - loss: 0.1189 - accuracy: 0.9552 - val_loss: 0.0509 - val_accuracy: 0.9832\n",
            "\n",
            "Epoch 00072: val_loss improved from 0.05255 to 0.05093, saving model to C:\\Users\\Akash\\Desktop\\Opencv\\model_weights\\finalyearproject_antispoofing_model_72-0.983158.h5\n",
            "Epoch 73/100\n",
            "168/168 [==============================] - 87s 515ms/step - loss: 0.1103 - accuracy: 0.9542 - val_loss: 0.0533 - val_accuracy: 0.9800\n",
            "\n",
            "Epoch 00073: val_loss did not improve from 0.05093\n",
            "Epoch 74/100\n",
            "168/168 [==============================] - 87s 519ms/step - loss: 0.1212 - accuracy: 0.9547 - val_loss: 0.0504 - val_accuracy: 0.9821\n",
            "\n",
            "Epoch 00074: val_loss improved from 0.05093 to 0.05041, saving model to C:\\Users\\Akash\\Desktop\\Opencv\\model_weights\\finalyearproject_antispoofing_model_74-0.982105.h5\n",
            "Epoch 75/100\n",
            "168/168 [==============================] - 90s 534ms/step - loss: 0.1161 - accuracy: 0.9566 - val_loss: 0.0503 - val_accuracy: 0.9821\n",
            "\n",
            "Epoch 00075: val_loss improved from 0.05041 to 0.05026, saving model to C:\\Users\\Akash\\Desktop\\Opencv\\model_weights\\finalyearproject_antispoofing_model_75-0.982105.h5\n",
            "Epoch 76/100\n",
            "168/168 [==============================] - 85s 505ms/step - loss: 0.1199 - accuracy: 0.9530 - val_loss: 0.0498 - val_accuracy: 0.9821\n",
            "\n",
            "Epoch 00076: val_loss improved from 0.05026 to 0.04982, saving model to C:\\Users\\Akash\\Desktop\\Opencv\\model_weights\\finalyearproject_antispoofing_model_76-0.982105.h5\n",
            "Epoch 77/100\n",
            "168/168 [==============================] - 84s 502ms/step - loss: 0.1194 - accuracy: 0.9566 - val_loss: 0.0505 - val_accuracy: 0.9811\n",
            "\n",
            "Epoch 00077: val_loss did not improve from 0.04982\n",
            "Epoch 78/100\n",
            "168/168 [==============================] - 85s 508ms/step - loss: 0.1081 - accuracy: 0.9621 - val_loss: 0.0507 - val_accuracy: 0.9800\n",
            "\n",
            "Epoch 00078: val_loss did not improve from 0.04982\n",
            "Epoch 79/100\n",
            "168/168 [==============================] - 84s 501ms/step - loss: 0.0990 - accuracy: 0.9619 - val_loss: 0.0488 - val_accuracy: 0.9821\n",
            "\n",
            "Epoch 00079: val_loss improved from 0.04982 to 0.04883, saving model to C:\\Users\\Akash\\Desktop\\Opencv\\model_weights\\finalyearproject_antispoofing_model_79-0.982105.h5\n",
            "Epoch 80/100\n",
            "168/168 [==============================] - 85s 507ms/step - loss: 0.1080 - accuracy: 0.9559 - val_loss: 0.0489 - val_accuracy: 0.9811\n",
            "\n",
            "Epoch 00080: val_loss did not improve from 0.04883\n",
            "Epoch 81/100\n",
            "168/168 [==============================] - 84s 502ms/step - loss: 0.1064 - accuracy: 0.9590 - val_loss: 0.0483 - val_accuracy: 0.9821\n",
            "\n",
            "Epoch 00081: val_loss improved from 0.04883 to 0.04831, saving model to C:\\Users\\Akash\\Desktop\\Opencv\\model_weights\\finalyearproject_antispoofing_model_81-0.982105.h5\n",
            "Epoch 82/100\n",
            "168/168 [==============================] - 84s 502ms/step - loss: 0.1099 - accuracy: 0.9578 - val_loss: 0.0466 - val_accuracy: 0.9832\n",
            "\n",
            "Epoch 00082: val_loss improved from 0.04831 to 0.04657, saving model to C:\\Users\\Akash\\Desktop\\Opencv\\model_weights\\finalyearproject_antispoofing_model_82-0.983158.h5\n",
            "Epoch 83/100\n",
            "168/168 [==============================] - 84s 499ms/step - loss: 0.0974 - accuracy: 0.9602 - val_loss: 0.0463 - val_accuracy: 0.9842\n",
            "\n",
            "Epoch 00083: val_loss improved from 0.04657 to 0.04633, saving model to C:\\Users\\Akash\\Desktop\\Opencv\\model_weights\\finalyearproject_antispoofing_model_83-0.984211.h5\n",
            "Epoch 84/100\n",
            "168/168 [==============================] - 84s 498ms/step - loss: 0.1074 - accuracy: 0.9566 - val_loss: 0.0461 - val_accuracy: 0.9842\n",
            "\n",
            "Epoch 00084: val_loss improved from 0.04633 to 0.04610, saving model to C:\\Users\\Akash\\Desktop\\Opencv\\model_weights\\finalyearproject_antispoofing_model_84-0.984211.h5\n",
            "Epoch 85/100\n",
            "168/168 [==============================] - 84s 499ms/step - loss: 0.1090 - accuracy: 0.9561 - val_loss: 0.0468 - val_accuracy: 0.9821\n",
            "\n",
            "Epoch 00085: val_loss did not improve from 0.04610\n",
            "Epoch 86/100\n",
            "168/168 [==============================] - 91s 543ms/step - loss: 0.1113 - accuracy: 0.9545 - val_loss: 0.0428 - val_accuracy: 0.9842\n",
            "\n",
            "Epoch 00086: val_loss improved from 0.04610 to 0.04285, saving model to C:\\Users\\Akash\\Desktop\\Opencv\\model_weights\\finalyearproject_antispoofing_model_86-0.984211.h5\n",
            "Epoch 87/100\n",
            "168/168 [==============================] - 87s 520ms/step - loss: 0.1011 - accuracy: 0.9611 - val_loss: 0.0437 - val_accuracy: 0.9853\n",
            "\n",
            "Epoch 00087: val_loss did not improve from 0.04285\n",
            "Epoch 88/100\n",
            "168/168 [==============================] - 87s 515ms/step - loss: 0.1067 - accuracy: 0.9604 - val_loss: 0.0438 - val_accuracy: 0.9853\n",
            "\n",
            "Epoch 00088: val_loss did not improve from 0.04285\n",
            "Epoch 89/100\n",
            "168/168 [==============================] - 86s 512ms/step - loss: 0.1076 - accuracy: 0.9597 - val_loss: 0.0438 - val_accuracy: 0.9853\n",
            "\n",
            "Epoch 00089: val_loss did not improve from 0.04285\n",
            "Epoch 90/100\n",
            "168/168 [==============================] - 86s 513ms/step - loss: 0.0942 - accuracy: 0.9633 - val_loss: 0.0441 - val_accuracy: 0.9853\n",
            "\n",
            "Epoch 00090: val_loss did not improve from 0.04285\n",
            "Epoch 91/100\n",
            "168/168 [==============================] - 86s 513ms/step - loss: 0.1110 - accuracy: 0.9590 - val_loss: 0.0442 - val_accuracy: 0.9842\n",
            "\n",
            "Epoch 00091: val_loss did not improve from 0.04285\n",
            "Epoch 92/100\n",
            "168/168 [==============================] - 86s 513ms/step - loss: 0.0953 - accuracy: 0.9647 - val_loss: 0.0427 - val_accuracy: 0.9853\n",
            "\n",
            "Epoch 00092: val_loss improved from 0.04285 to 0.04273, saving model to C:\\Users\\Akash\\Desktop\\Opencv\\model_weights\\finalyearproject_antispoofing_model_92-0.985263.h5\n",
            "Epoch 93/100\n",
            "168/168 [==============================] - 87s 518ms/step - loss: 0.1030 - accuracy: 0.9609 - val_loss: 0.0429 - val_accuracy: 0.9853\n",
            "\n",
            "Epoch 00093: val_loss did not improve from 0.04273\n",
            "Epoch 94/100\n",
            "168/168 [==============================] - 87s 517ms/step - loss: 0.1028 - accuracy: 0.9597 - val_loss: 0.0449 - val_accuracy: 0.9821\n",
            "\n",
            "Epoch 00094: val_loss did not improve from 0.04273\n",
            "Epoch 95/100\n",
            "168/168 [==============================] - 86s 514ms/step - loss: 0.0992 - accuracy: 0.9623 - val_loss: 0.0428 - val_accuracy: 0.9863\n",
            "\n",
            "Epoch 00095: val_loss did not improve from 0.04273\n",
            "Epoch 96/100\n",
            "168/168 [==============================] - 87s 516ms/step - loss: 0.1018 - accuracy: 0.9633 - val_loss: 0.0413 - val_accuracy: 0.9863\n",
            "\n",
            "Epoch 00096: val_loss improved from 0.04273 to 0.04132, saving model to C:\\Users\\Akash\\Desktop\\Opencv\\model_weights\\finalyearproject_antispoofing_model_96-0.986316.h5\n",
            "Epoch 97/100\n",
            "168/168 [==============================] - 86s 514ms/step - loss: 0.0895 - accuracy: 0.9662 - val_loss: 0.0419 - val_accuracy: 0.9853\n",
            "\n",
            "Epoch 00097: val_loss did not improve from 0.04132\n",
            "Epoch 98/100\n",
            "168/168 [==============================] - 86s 514ms/step - loss: 0.1000 - accuracy: 0.9626 - val_loss: 0.0418 - val_accuracy: 0.9853\n",
            "\n",
            "Epoch 00098: val_loss did not improve from 0.04132\n",
            "Epoch 99/100\n",
            "168/168 [==============================] - 87s 516ms/step - loss: 0.0978 - accuracy: 0.9666 - val_loss: 0.0416 - val_accuracy: 0.9863\n",
            "\n",
            "Epoch 00099: val_loss did not improve from 0.04132\n",
            "Epoch 100/100\n",
            "168/168 [==============================] - 86s 512ms/step - loss: 0.0994 - accuracy: 0.9662 - val_loss: 0.0401 - val_accuracy: 0.9874\n",
            "\n",
            "Epoch 00100: val_loss improved from 0.04132 to 0.04010, saving model to C:\\Users\\Akash\\Desktop\\Opencv\\model_weights\\finalyearproject_antispoofing_model_100-0.987368.h5\n"
          ]
        }
      ],
      "source": [
        "history = model.fit_generator(\n",
        "    train_generator,\n",
        "    steps_per_epoch = train_generator.samples // 25,\n",
        "    validation_data = valid_generator, \n",
        "    validation_steps = valid_generator.samples // 25,\n",
        "    epochs = 100,\n",
        "    callbacks=[model_checkpoint])"
      ]
    },
    {
      "cell_type": "code",
      "execution_count": 75,
      "metadata": {
        "colab": {
          "base_uri": "https://localhost:8080/"
        },
        "id": "Lc50p4BQVPgJ",
        "outputId": "1ddb1b0b-8344-4510-cdfe-eb8c6290b231"
      },
      "outputs": [],
      "source": [
        "# serialize model to JSON\n",
        "model_json = model.to_json()\n",
        "with open(\"finalyearproject_antispoofing_model_mobilenet.json\", \"w\") as json_file:\n",
        "    json_file.write(model_json)"
      ]
    },
    {
      "cell_type": "code",
      "execution_count": 76,
      "metadata": {
        "colab": {
          "base_uri": "https://localhost:8080/",
          "height": 295
        },
        "id": "qMUYX0FFVStb",
        "outputId": "aea41ccb-8845-4e05-b1dd-e9c8ff69ae95"
      },
      "outputs": [
        {
          "data": {
            "image/png": "[encoded data removed]",
            "text/plain": [
              "<Figure size 640x480 with 1 Axes>"
            ]
          },
          "metadata": {},
          "output_type": "display_data"
        }
      ],
      "source": [
        "import matplotlib.pyplot as plt\n",
        "train_accuracy = history.history['accuracy']\n",
        "validation_accuracy = history.history['val_accuracy']\n",
        "epochs = range(1,101)\n",
        "plt.plot(epochs,train_accuracy,'g',label='Training Accuracy')\n",
        "plt.plot(epochs,validation_accuracy,'b',label='Validation Accuracy')\n",
        "plt.title('Training Vs Validation Accuracy')\n",
        "plt.xlabel('Epochs')\n",
        "plt.ylabel('Accuracy')\n",
        "plt.legend()\n",
        "plt.show()\n",
        "    "
      ]
    },
    {
      "cell_type": "code",
      "execution_count": 77,
      "metadata": {
        "colab": {
          "base_uri": "https://localhost:8080/",
          "height": 295
        },
        "id": "crVXghk8VS7-",
        "outputId": "0abf23d2-6bb1-43d7-de53-fa6fabf61e1f"
      },
      "outputs": [
        {
          "data": {
            "image/png": "[encoded data removed]",
            "text/plain": [
              "<Figure size 640x480 with 1 Axes>"
            ]
          },
          "metadata": {},
          "output_type": "display_data"
        }
      ],
      "source": [
        "import matplotlib.pyplot as plt\n",
        "train_loss = history.history['loss']\n",
        "val_loss = history.history['val_loss']\n",
        "epochs = range(1,101)\n",
        "plt.plot(epochs,train_loss,'g', label='Training Loss')\n",
        "plt.plot(epochs, val_loss, 'b', label='validation Loss')\n",
        "plt.title('Training and Validation Loss')\n",
        "plt.xlabel('Epochs')\n",
        "plt.ylabel('Accuracy')\n",
        "plt.legend()\n",
        "plt.show()"
      ]
    },
    {
      "cell_type": "code",
      "execution_count": 78,
      "metadata": {
        "id": "XvNSg4lAVbbf"
      },
      "outputs": [],
      "source": [
        "from keras.preprocessing import image\n",
        "import numpy as np\n",
        "def check_fakes(path,category_type):\n",
        "  predictor = {}\n",
        "  path= os.path.join(path,category_type)\n",
        "  for img in os.listdir(path):\n",
        "    try:\n",
        "      img = image.load_img(os.path.join(path,img),target_size=(160,160))\n",
        "      img = image.img_to_array(img)\n",
        "      img = np.expand_dims(img,axis=0)\n",
        "      img = img / 255.0\n",
        "      prediction = model.predict(img)\n",
        "      if prediction > 0.5:\n",
        "        prediction_class = 1\n",
        "      else:\n",
        "        prediction_class = 0\n",
        "      result = categories[prediction_class]\n",
        "      if result not in predictor:\n",
        "        predictor[result] = 1\n",
        "      else:\n",
        "        predictor[result] += 1\n",
        "    except Exception as e:\n",
        "      pass\n",
        "  return predictor"
      ]
    },
    {
      "cell_type": "code",
      "execution_count": 79,
      "metadata": {
        "colab": {
          "base_uri": "https://localhost:8080/"
        },
        "id": "TheNPqhlVdiR",
        "outputId": "e19130e3-9dd6-48c1-f0d4-b75d2657eac8"
      },
      "outputs": [
        {
          "data": {
            "text/plain": [
              "{'spoof': 466, 'real': 8}"
            ]
          },
          "execution_count": 79,
          "metadata": {},
          "output_type": "execute_result"
        }
      ],
      "source": [
        "check_fakes(test_dir,categories[1])"
      ]
    },
    {
      "cell_type": "code",
      "execution_count": 82,
      "metadata": {
        "colab": {
          "base_uri": "https://localhost:8080/"
        },
        "id": "4931yo1bVdlP",
        "outputId": "b78fb842-af94-4572-fc24-72677fe42a74"
      },
      "outputs": [
        {
          "data": {
            "text/plain": [
              "{'real': 473, 'spoof': 4}"
            ]
          },
          "execution_count": 82,
          "metadata": {},
          "output_type": "execute_result"
        }
      ],
      "source": [
        "check_fakes(test_dir,categories[0])"
      ]
    },
    {
      "cell_type": "code",
      "execution_count": null,
      "metadata": {
        "colab": {
          "base_uri": "https://localhost:8080/"
        },
        "id": "8KM2u110Wub9",
        "outputId": "339209b0-c868-4895-d955-dac3e7ce1534"
      },
      "outputs": [],
      "source": [
        "(19+6)/(19+455+471+6)*100"
      ]
    },
    {
      "cell_type": "code",
      "execution_count": 81,
      "metadata": {
        "colab": {
          "base_uri": "https://localhost:8080/"
        },
        "id": "5ystf-fjXCG4",
        "outputId": "b92ae86e-ee99-43ea-c4fa-1a53a2feb601"
      },
      "outputs": [
        {
          "data": {
            "text/plain": [
              "97.3712"
            ]
          },
          "execution_count": 81,
          "metadata": {},
          "output_type": "execute_result"
        }
      ],
      "source": [
        "100-2.6288"
      ]
    },
    {
      "cell_type": "code",
      "execution_count": null,
      "metadata": {
        "id": "wQZ4BFHgXIYM"
      },
      "outputs": [],
      "source": []
    }
  ],
  "metadata": {
    "accelerator": "GPU",
    "colab": {
      "collapsed_sections": [],
      "name": "antispoofing_system.ipynb",
      "provenance": []
    },
    "kernelspec": {
      "display_name": "aspoofenv",
      "language": "python",
      "name": "python3"
    },
    "language_info": {
      "codemirror_mode": {
        "name": "ipython",
        "version": 3
      },
      "file_extension": ".py",
      "mimetype": "text/x-python",
      "name": "python",
      "nbconvert_exporter": "python",
      "pygments_lexer": "ipython3",
      "version": "3.9.16"
    },
    "vscode": {
      "interpreter": {
        "hash": "3cb534f3d82ec5776aa1dcba8ae004f1ee01cc090ee350b2dcfdaf4e03510338"
      }
    }
  },
  "nbformat": 4,
  "nbformat_minor": 0
}
